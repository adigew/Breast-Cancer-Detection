{
  "nbformat": 4,
  "nbformat_minor": 0,
  "metadata": {
    "colab": {
      "provenance": [],
      "authorship_tag": "ABX9TyM8RKOY7YcckzIbb6rLEqvM",
      "include_colab_link": true
    },
    "kernelspec": {
      "name": "python3",
      "display_name": "Python 3"
    },
    "language_info": {
      "name": "python"
    }
  },
  "cells": [
    {
      "cell_type": "markdown",
      "metadata": {
        "id": "view-in-github",
        "colab_type": "text"
      },
      "source": [
        "<a href=\"https://colab.research.google.com/github/adigew/Breast-Cancer-Detection/blob/main/MobileNetV2.ipynb\" target=\"_parent\"><img src=\"https://colab.research.google.com/assets/colab-badge.svg\" alt=\"Open In Colab\"/></a>"
      ]
    },
    {
      "cell_type": "code",
      "execution_count": null,
      "metadata": {
        "id": "baBVrQoLC3ev"
      },
      "outputs": [],
      "source": [
        "import numpy as np # linear algebra\n",
        "import pandas as pd # data processing, CSV file I/O (e.g. pd.read_csv)\n",
        "\n",
        "# Input data files are available in the read-only \"../input/\" directory\n",
        "# For example, running this (by clicking run or pressing Shift+Enter) will list all files under the input directory\n",
        "\n",
        "import os"
      ]
    },
    {
      "cell_type": "code",
      "source": [
        "pip install openpyxl"
      ],
      "metadata": {
        "colab": {
          "base_uri": "https://localhost:8080/"
        },
        "id": "LgkHM1vMC9Xq",
        "outputId": "51936e95-580a-43ce-8308-36981314d5b3"
      },
      "execution_count": null,
      "outputs": [
        {
          "output_type": "stream",
          "name": "stdout",
          "text": [
            "Looking in indexes: https://pypi.org/simple, https://us-python.pkg.dev/colab-wheels/public/simple/\n",
            "Requirement already satisfied: openpyxl in /usr/local/lib/python3.7/dist-packages (3.0.10)\n",
            "Requirement already satisfied: et-xmlfile in /usr/local/lib/python3.7/dist-packages (from openpyxl) (1.1.0)\n"
          ]
        }
      ]
    },
    {
      "cell_type": "code",
      "source": [
        "from tensorflow import keras\n",
        "import cv2\n",
        "from tensorflow.keras.preprocessing.image import load_img ,img_to_array\n",
        "import matplotlib.pyplot as plt\n",
        "from tensorflow.keras import Model\n",
        "from tensorflow.keras.models import Sequential \n",
        "from tensorflow.keras.layers import Conv2D\n",
        "from tensorflow.keras.layers import MaxPooling2D,AveragePooling2D,BatchNormalization\n",
        "from tensorflow.keras.layers import Dense,Activation\n",
        "from tensorflow.keras.layers import Flatten,Dropout,SpatialDropout2D,AveragePooling2D,GlobalAveragePooling2D\n",
        "from tensorflow.keras.optimizers import SGD\n",
        "from tensorflow.keras.optimizers import Adam\n",
        "import tensorflow as tf\n",
        "from tensorflow.keras.callbacks import EarlyStopping, ModelCheckpoint\n",
        "from google.colab import drive\n",
        "drive.mount('/content/gdrive')"
      ],
      "metadata": {
        "colab": {
          "base_uri": "https://localhost:8080/"
        },
        "id": "F_-vqOfZC9Z0",
        "outputId": "d8f23dd8-9849-4f64-c397-c5959460293d"
      },
      "execution_count": null,
      "outputs": [
        {
          "output_type": "stream",
          "name": "stdout",
          "text": [
            "Drive already mounted at /content/gdrive; to attempt to forcibly remount, call drive.mount(\"/content/gdrive\", force_remount=True).\n"
          ]
        }
      ]
    },
    {
      "cell_type": "code",
      "source": [
        "path = \"/content/gdrive/My Drive/Breast_Cancer/Ultrasound/Dataset_BUSI_with_GT\"\n",
        "dir_list = [os.path.join(path,i) for i in os.listdir(path)]\n",
        "size_dict = {}\n",
        "for i,value in enumerate(dir_list):\n",
        "    size_dict[os.listdir(path)[i]] = len(os.listdir(value))\n",
        "size_dict "
      ],
      "metadata": {
        "colab": {
          "base_uri": "https://localhost:8080/"
        },
        "id": "yyD_ULq5C9b8",
        "outputId": "88ef8fc2-a609-4daa-dde9-5573cfc2e56c"
      },
      "execution_count": null,
      "outputs": [
        {
          "output_type": "execute_result",
          "data": {
            "text/plain": [
              "{'normal': 266, 'malignant': 421, 'benign': 891}"
            ]
          },
          "metadata": {},
          "execution_count": 8
        }
      ]
    },
    {
      "cell_type": "code",
      "source": [
        "img_size = 128\n",
        "img_channel = 3\n",
        "X_b , Xm_b , y_b = np.zeros((437,img_size,img_size,img_channel)) , np.zeros((437,img_size,img_size,img_channel)) , np.full(437,'benign') \n",
        "X_n , Xm_n , y_n = np.zeros((133,img_size,img_size,img_channel)) , np.zeros((133,img_size,img_size,img_channel)) , np.full(133,'normal') \n",
        "X_m , Xm_m , y_m = np.zeros((210,img_size,img_size,img_channel)) , np.zeros((210,img_size,img_size,img_channel)) , np.full(210,'malignant')"
      ],
      "metadata": {
        "id": "WbnrdOF3C9f6"
      },
      "execution_count": null,
      "outputs": []
    },
    {
      "cell_type": "code",
      "source": [
        "img1_path = os.path.join(os.path.join(path,'benign'),os.listdir(os.path.join(path,'benign'))[1])\n",
        "\n",
        "pil_img = load_img(img1_path,color_mode = 'rgb',target_size=(img_size,img_size))\n",
        "img = img_to_array(pil_img)\n",
        "img_shape = img.shape\n",
        "print(img_shape)\n",
        "\n",
        "def img_num(filename):\n",
        "    \n",
        "    val = 0\n",
        "    \n",
        "    for i in range(len(filename)) :\n",
        "        if filename[i] == '(' :\n",
        "            while True :\n",
        "                i += 1\n",
        "                if filename[i] == ')' :\n",
        "                    break\n",
        "                val = (val*10) + int(filename[i])\n",
        "            break\n",
        "    \n",
        "    return val\n",
        "\n",
        "for tumor_path in dir_list :\n",
        "    for image in os.listdir(tumor_path) :\n",
        "        p = os.path.join(tumor_path, image)\n",
        "        pil_img = load_img(p,color_mode = 'rgb',target_size=(img_size,img_size))         # read image as  grayscale ans resize it\n",
        "        \n",
        "        if image[-5] == ')' :                                   #if real image \n",
        "            \n",
        "            if image[0] == 'b' :\n",
        "                X_b[img_num(image)-1]+= img_to_array(pil_img)  # If image is real add it\n",
        "            if image[0] == 'n' :                               # to X as benign , normal\n",
        "                X_n[img_num(image)-1]+= img_to_array(pil_img)  # or malignant.\n",
        "            if image[0] == 'm' :\n",
        "                X_m[img_num(image)-1]+= img_to_array(pil_img)\n",
        "        else :                                                 #else masked image\n",
        "            \n",
        "            if image[0] == 'b' :\n",
        "                Xm_b[img_num(image)-1]+= img_to_array(pil_img)  # Similarly add the target\n",
        "            if image[0] == 'n' :                               # mask to y.\n",
        "                Xm_n[img_num(image)-1]+= img_to_array(pil_img)\n",
        "            if image[0] == 'm' :\n",
        "                Xm_m[img_num(image)-1]+= img_to_array(pil_img)"
      ],
      "metadata": {
        "colab": {
          "base_uri": "https://localhost:8080/"
        },
        "id": "Siu16c7EC9iK",
        "outputId": "465a8bac-2ed7-49c5-c2d7-ea9a95373ae7"
      },
      "execution_count": null,
      "outputs": [
        {
          "output_type": "stream",
          "name": "stdout",
          "text": [
            "(128, 128, 3)\n"
          ]
        }
      ]
    },
    {
      "cell_type": "code",
      "source": [
        "X = np.concatenate((X_b, X_n, X_m), axis = 0)\n",
        "Xm = np.concatenate((Xm_b, Xm_n, Xm_m), axis = 0)\n",
        "y = np.concatenate((y_b, y_n, y_m), axis = 0)\n",
        "\n",
        "print(X.shape)\n",
        "print(Xm.shape)\n",
        "print(y.shape)\n",
        "X /= 255.0\n",
        "Xm /= 255.0\n",
        "\n",
        "print(X.max())\n",
        "print(Xm.min())"
      ],
      "metadata": {
        "colab": {
          "base_uri": "https://localhost:8080/"
        },
        "id": "6yoWz-t7C9kL",
        "outputId": "83891c71-89aa-44b3-e0a2-a9511694a27e"
      },
      "execution_count": null,
      "outputs": [
        {
          "output_type": "stream",
          "name": "stdout",
          "text": [
            "(780, 128, 128, 3)\n",
            "(780, 128, 128, 3)\n",
            "(780,)\n",
            "1.0\n",
            "0.0\n"
          ]
        }
      ]
    },
    {
      "cell_type": "code",
      "source": [
        "from sklearn.model_selection import train_test_split\n",
        "from sklearn.preprocessing import OneHotEncoder\n",
        "\n",
        "encoder  = OneHotEncoder()\n",
        "# y = y.toarray()\n",
        "y=encoder.fit_transform(y.reshape(y.shape[0],1))\n",
        "\n",
        "X_train,X_test,y_train,y_test = train_test_split(X,y,test_size = 0.15,shuffle=True,random_state=42)\n",
        "X_train,X_val,y_train,y_val = train_test_split(X_train,y_train,test_size=0.1,random_state=42,stratify = y_train.toarray())\n",
        "Xm_train,Xm_test,ym_train,ym_test = train_test_split(Xm,y,test_size = 0.15,shuffle=True,random_state=42,stratify=y.toarray())\n",
        "Xm_train,Xm_val,ym_train,ym_val = train_test_split(Xm_train,ym_train,test_size=0.1,random_state=42,stratify = ym_train.toarray())\n",
        "\n",
        "class_list = encoder.categories_\n",
        "print(X_train.shape,X_test.shape)\n",
        "print(y_train.shape,y_test.shape)"
      ],
      "metadata": {
        "id": "WdG4OkAcC9ma"
      },
      "execution_count": null,
      "outputs": []
    },
    {
      "cell_type": "code",
      "source": [
        "base_model = tf.keras.applications.MobileNetV2(\n",
        "    include_top=False,\n",
        "    weights=\"imagenet\",\n",
        "    input_tensor=None,\n",
        "    input_shape=img_shape,\n",
        "    pooling=None\n",
        ")\n",
        "\n",
        "X_feat_out = base_model.output\n",
        "X_feat_flatten = Flatten()(X_feat_out)\n",
        "\n",
        "X_feat_model = Model(inputs = base_model.input,outputs = X_feat_flatten)\n",
        "X_feat_train = X_feat_model.predict(X_train)\n",
        "X_feat_val = X_feat_model.predict(X_val)\n",
        "X_feat_test = X_feat_model.predict(X_test)\n",
        "\n",
        "\n",
        "Xm_feat_train = X_feat_model.predict(Xm_train)\n",
        "Xm_feat_val = X_feat_model.predict(Xm_val)\n",
        "Xm_feat_test = X_feat_model.predict(Xm_test)"
      ],
      "metadata": {
        "colab": {
          "base_uri": "https://localhost:8080/"
        },
        "id": "I5aLJswkC9oP",
        "outputId": "5accdab7-eebb-42f1-a701-6af587992382"
      },
      "execution_count": null,
      "outputs": [
        {
          "output_type": "stream",
          "name": "stdout",
          "text": [
            "Downloading data from https://storage.googleapis.com/tensorflow/keras-applications/mobilenet_v2/mobilenet_v2_weights_tf_dim_ordering_tf_kernels_1.0_128_no_top.h5\n",
            "9412608/9406464 [==============================] - 0s 0us/step\n",
            "9420800/9406464 [==============================] - 0s 0us/step\n"
          ]
        }
      ]
    },
    {
      "cell_type": "code",
      "source": [
        "from sklearn.pipeline import Pipeline\n",
        "from sklearn.svm import SVC\n",
        "from sklearn.ensemble import RandomForestClassifier\n",
        "from sklearn.ensemble import AdaBoostClassifier\n",
        "from sklearn.neighbors import KNeighborsClassifier\n",
        "from xgboost import XGBClassifier\n",
        "from sklearn.ensemble import BaggingClassifier\n",
        "from sklearn.neural_network import MLPClassifier\n",
        "from tensorflow.keras.layers import LSTM,Bidirectional,Reshape\n",
        "from sklearn.metrics import accuracy_score,recall_score,precision_score,f1_score,roc_auc_score,cohen_kappa_score"
      ],
      "metadata": {
        "id": "N13umcFDC9qb"
      },
      "execution_count": null,
      "outputs": []
    },
    {
      "cell_type": "code",
      "source": [
        "df = pd.DataFrame(columns = ['classifier',\"train_accuracy\",'val_accuracy',\"test_accuracy\",\"f1_measure\",\"kappa_score\",\"recall\",\"Precision\"])"
      ],
      "metadata": {
        "id": "06VpQMZiC9sj"
      },
      "execution_count": null,
      "outputs": []
    },
    {
      "cell_type": "code",
      "source": [
        "def eval(classifier_name,y_train,y_train_pred,y_val,y_val_pred,y_true,y_pred):\n",
        "    y_train = np.argmax(y_train,axis=1)\n",
        "#     y_train_pred = np.argmax(y_train_pred,axis=1)\n",
        "    y_val = np.argmax(y_val,axis=1)\n",
        "#     y_val_pred = np.argmax(y_val_pred,axis=1)\n",
        "    y_true = np.argmax(y_true,axis=1)\n",
        "#     y_pred = np.argmax(y_pred,axis=1)\n",
        "    \n",
        "    train_accuracy = round(accuracy_score(y_train,y_train_pred),4)\n",
        "    val_accuracy = round(accuracy_score(y_val,y_val_pred),4)\n",
        "    test_accuracy = round(accuracy_score(y_true,y_pred),4)\n",
        "    f1_measure = round(f1_score(y_true,y_pred,average='weighted'),4)\n",
        "    kappa_score = round(cohen_kappa_score(y_true,y_pred),4)\n",
        "    recall = round(recall_score(y_true,y_pred,average='weighted'),4)\n",
        "    precision = round(precision_score(y_true,y_pred,average='weighted'),4)\n",
        "    \n",
        "    score = {\"classifier\":classifier_name,\"train_accuracy\":train_accuracy , \"val_accuracy\":val_accuracy,\"test_accuracy\":test_accuracy,\"f1_measure\":f1_measure,\"kappa_score\":kappa_score,\"recall\":recall,\"precision\":precision}\n",
        "#     df = df.append(score,ignore_index=True)\n",
        "    df.loc[len(df.index)] = score.values()\n",
        "    for e,a in score.items():\n",
        "        print(e,a)\n",
        "    print(\"--\"*20)"
      ],
      "metadata": {
        "id": "eJoYfMbLC9us"
      },
      "execution_count": null,
      "outputs": []
    },
    {
      "cell_type": "code",
      "source": [
        "def classifier_eval(classifier,classifier_name,X_train,y_train,X_val,y_val,X_test,y_test):\n",
        "    \n",
        "    classifier.fit(X_train,np.argmax(y_train,axis=1))\n",
        "    \n",
        "    y_train_pred = classifier.predict(X_train)\n",
        "    y_val_pred = classifier.predict(X_val)\n",
        "    y_test_pred = classifier.predict(X_test)\n",
        "    \n",
        "    eval(classifier_name,y_train,y_train_pred,y_val,y_val_pred,y_test,y_test_pred)"
      ],
      "metadata": {
        "id": "o2fI6uA_C9wy"
      },
      "execution_count": null,
      "outputs": []
    },
    {
      "cell_type": "code",
      "source": [
        "names = ['SVM',\n",
        "    'Random Forest',\n",
        "    'AdaBoost',\n",
        "    'KNN',\n",
        "    'XGBoost',\n",
        "    'Bagging',\n",
        "    'ANN'\n",
        "        ]\n",
        "\n",
        "classifier = [\n",
        "    SVC(),\n",
        "    RandomForestClassifier(),\n",
        "    AdaBoostClassifier(),\n",
        "    KNeighborsClassifier(),\n",
        "    XGBClassifier(),\n",
        "    BaggingClassifier(),\n",
        "    MLPClassifier(max_iter = 400),\n",
        "]\n",
        "\n",
        "cls_list = zip(names,classifier)\n",
        "clsm_list = zip(names,classifier)\n"
      ],
      "metadata": {
        "id": "Nzb-wrcHC9zE"
      },
      "execution_count": null,
      "outputs": []
    },
    {
      "cell_type": "code",
      "source": [
        "for n,c in cls_list:\n",
        "    classifier_eval(c,n,X_feat_train,y_train.toarray(),X_feat_val,y_val.toarray(),X_feat_test,y_test.toarray())"
      ],
      "metadata": {
        "colab": {
          "base_uri": "https://localhost:8080/",
          "height": 953
        },
        "id": "PGOLmT_6C91N",
        "outputId": "8c340b60-cc12-4f36-96e0-02feaf881850"
      },
      "execution_count": null,
      "outputs": [
        {
          "output_type": "stream",
          "name": "stdout",
          "text": [
            "classifier SVM\n",
            "train_accuracy 0.9279\n",
            "val_accuracy 0.791\n",
            "test_accuracy 0.7949\n",
            "f1_measure 0.7871\n",
            "kappa_score 0.6506\n",
            "recall 0.7949\n",
            "precision 0.8087\n",
            "----------------------------------------\n",
            "classifier Random Forest\n",
            "train_accuracy 1.0\n",
            "val_accuracy 0.7463\n",
            "test_accuracy 0.7436\n",
            "f1_measure 0.7277\n",
            "kappa_score 0.5465\n",
            "recall 0.7436\n",
            "precision 0.8066\n",
            "----------------------------------------\n",
            "classifier AdaBoost\n",
            "train_accuracy 0.8322\n",
            "val_accuracy 0.7761\n",
            "test_accuracy 0.6239\n",
            "f1_measure 0.5883\n",
            "kappa_score 0.3257\n",
            "recall 0.6239\n",
            "precision 0.6605\n",
            "----------------------------------------\n",
            "classifier KNN\n",
            "train_accuracy 0.8154\n",
            "val_accuracy 0.6716\n",
            "test_accuracy 0.7179\n",
            "f1_measure 0.7145\n",
            "kappa_score 0.5413\n",
            "recall 0.7179\n",
            "precision 0.7155\n",
            "----------------------------------------\n"
          ]
        },
        {
          "output_type": "error",
          "ename": "KeyboardInterrupt",
          "evalue": "ignored",
          "traceback": [
            "\u001b[0;31m---------------------------------------------------------------------------\u001b[0m",
            "\u001b[0;31mKeyboardInterrupt\u001b[0m                         Traceback (most recent call last)",
            "\u001b[0;32m<ipython-input-14-5e23c1ee9284>\u001b[0m in \u001b[0;36m<module>\u001b[0;34m\u001b[0m\n\u001b[1;32m      1\u001b[0m \u001b[0;32mfor\u001b[0m \u001b[0mn\u001b[0m\u001b[0;34m,\u001b[0m\u001b[0mc\u001b[0m \u001b[0;32min\u001b[0m \u001b[0mcls_list\u001b[0m\u001b[0;34m:\u001b[0m\u001b[0;34m\u001b[0m\u001b[0;34m\u001b[0m\u001b[0m\n\u001b[0;32m----> 2\u001b[0;31m     \u001b[0mclassifier_eval\u001b[0m\u001b[0;34m(\u001b[0m\u001b[0mc\u001b[0m\u001b[0;34m,\u001b[0m\u001b[0mn\u001b[0m\u001b[0;34m,\u001b[0m\u001b[0mX_feat_train\u001b[0m\u001b[0;34m,\u001b[0m\u001b[0my_train\u001b[0m\u001b[0;34m.\u001b[0m\u001b[0mtoarray\u001b[0m\u001b[0;34m(\u001b[0m\u001b[0;34m)\u001b[0m\u001b[0;34m,\u001b[0m\u001b[0mX_feat_val\u001b[0m\u001b[0;34m,\u001b[0m\u001b[0my_val\u001b[0m\u001b[0;34m.\u001b[0m\u001b[0mtoarray\u001b[0m\u001b[0;34m(\u001b[0m\u001b[0;34m)\u001b[0m\u001b[0;34m,\u001b[0m\u001b[0mX_feat_test\u001b[0m\u001b[0;34m,\u001b[0m\u001b[0my_test\u001b[0m\u001b[0;34m.\u001b[0m\u001b[0mtoarray\u001b[0m\u001b[0;34m(\u001b[0m\u001b[0;34m)\u001b[0m\u001b[0;34m)\u001b[0m\u001b[0;34m\u001b[0m\u001b[0;34m\u001b[0m\u001b[0m\n\u001b[0m",
            "\u001b[0;32m<ipython-input-12-e7a8a485ea42>\u001b[0m in \u001b[0;36mclassifier_eval\u001b[0;34m(classifier, classifier_name, X_train, y_train, X_val, y_val, X_test, y_test)\u001b[0m\n\u001b[1;32m      1\u001b[0m \u001b[0;32mdef\u001b[0m \u001b[0mclassifier_eval\u001b[0m\u001b[0;34m(\u001b[0m\u001b[0mclassifier\u001b[0m\u001b[0;34m,\u001b[0m\u001b[0mclassifier_name\u001b[0m\u001b[0;34m,\u001b[0m\u001b[0mX_train\u001b[0m\u001b[0;34m,\u001b[0m\u001b[0my_train\u001b[0m\u001b[0;34m,\u001b[0m\u001b[0mX_val\u001b[0m\u001b[0;34m,\u001b[0m\u001b[0my_val\u001b[0m\u001b[0;34m,\u001b[0m\u001b[0mX_test\u001b[0m\u001b[0;34m,\u001b[0m\u001b[0my_test\u001b[0m\u001b[0;34m)\u001b[0m\u001b[0;34m:\u001b[0m\u001b[0;34m\u001b[0m\u001b[0;34m\u001b[0m\u001b[0m\n\u001b[1;32m      2\u001b[0m \u001b[0;34m\u001b[0m\u001b[0m\n\u001b[0;32m----> 3\u001b[0;31m     \u001b[0mclassifier\u001b[0m\u001b[0;34m.\u001b[0m\u001b[0mfit\u001b[0m\u001b[0;34m(\u001b[0m\u001b[0mX_train\u001b[0m\u001b[0;34m,\u001b[0m\u001b[0mnp\u001b[0m\u001b[0;34m.\u001b[0m\u001b[0margmax\u001b[0m\u001b[0;34m(\u001b[0m\u001b[0my_train\u001b[0m\u001b[0;34m,\u001b[0m\u001b[0maxis\u001b[0m\u001b[0;34m=\u001b[0m\u001b[0;36m1\u001b[0m\u001b[0;34m)\u001b[0m\u001b[0;34m)\u001b[0m\u001b[0;34m\u001b[0m\u001b[0;34m\u001b[0m\u001b[0m\n\u001b[0m\u001b[1;32m      4\u001b[0m \u001b[0;34m\u001b[0m\u001b[0m\n\u001b[1;32m      5\u001b[0m     \u001b[0my_train_pred\u001b[0m \u001b[0;34m=\u001b[0m \u001b[0mclassifier\u001b[0m\u001b[0;34m.\u001b[0m\u001b[0mpredict\u001b[0m\u001b[0;34m(\u001b[0m\u001b[0mX_train\u001b[0m\u001b[0;34m)\u001b[0m\u001b[0;34m\u001b[0m\u001b[0;34m\u001b[0m\u001b[0m\n",
            "\u001b[0;32m/usr/local/lib/python3.7/dist-packages/xgboost/sklearn.py\u001b[0m in \u001b[0;36mfit\u001b[0;34m(self, X, y, sample_weight, eval_set, eval_metric, early_stopping_rounds, verbose, xgb_model, sample_weight_eval_set, callbacks)\u001b[0m\n\u001b[1;32m    730\u001b[0m                               \u001b[0mevals_result\u001b[0m\u001b[0;34m=\u001b[0m\u001b[0mevals_result\u001b[0m\u001b[0;34m,\u001b[0m \u001b[0mobj\u001b[0m\u001b[0;34m=\u001b[0m\u001b[0mobj\u001b[0m\u001b[0;34m,\u001b[0m \u001b[0mfeval\u001b[0m\u001b[0;34m=\u001b[0m\u001b[0mfeval\u001b[0m\u001b[0;34m,\u001b[0m\u001b[0;34m\u001b[0m\u001b[0;34m\u001b[0m\u001b[0m\n\u001b[1;32m    731\u001b[0m                               \u001b[0mverbose_eval\u001b[0m\u001b[0;34m=\u001b[0m\u001b[0mverbose\u001b[0m\u001b[0;34m,\u001b[0m \u001b[0mxgb_model\u001b[0m\u001b[0;34m=\u001b[0m\u001b[0mxgb_model\u001b[0m\u001b[0;34m,\u001b[0m\u001b[0;34m\u001b[0m\u001b[0;34m\u001b[0m\u001b[0m\n\u001b[0;32m--> 732\u001b[0;31m                               callbacks=callbacks)\n\u001b[0m\u001b[1;32m    733\u001b[0m \u001b[0;34m\u001b[0m\u001b[0m\n\u001b[1;32m    734\u001b[0m         \u001b[0mself\u001b[0m\u001b[0;34m.\u001b[0m\u001b[0mobjective\u001b[0m \u001b[0;34m=\u001b[0m \u001b[0mxgb_options\u001b[0m\u001b[0;34m[\u001b[0m\u001b[0;34m\"objective\"\u001b[0m\u001b[0;34m]\u001b[0m\u001b[0;34m\u001b[0m\u001b[0;34m\u001b[0m\u001b[0m\n",
            "\u001b[0;32m/usr/local/lib/python3.7/dist-packages/xgboost/training.py\u001b[0m in \u001b[0;36mtrain\u001b[0;34m(params, dtrain, num_boost_round, evals, obj, feval, maximize, early_stopping_rounds, evals_result, verbose_eval, xgb_model, callbacks, learning_rates)\u001b[0m\n\u001b[1;32m    214\u001b[0m                            \u001b[0mevals\u001b[0m\u001b[0;34m=\u001b[0m\u001b[0mevals\u001b[0m\u001b[0;34m,\u001b[0m\u001b[0;34m\u001b[0m\u001b[0;34m\u001b[0m\u001b[0m\n\u001b[1;32m    215\u001b[0m                            \u001b[0mobj\u001b[0m\u001b[0;34m=\u001b[0m\u001b[0mobj\u001b[0m\u001b[0;34m,\u001b[0m \u001b[0mfeval\u001b[0m\u001b[0;34m=\u001b[0m\u001b[0mfeval\u001b[0m\u001b[0;34m,\u001b[0m\u001b[0;34m\u001b[0m\u001b[0;34m\u001b[0m\u001b[0m\n\u001b[0;32m--> 216\u001b[0;31m                            xgb_model=xgb_model, callbacks=callbacks)\n\u001b[0m\u001b[1;32m    217\u001b[0m \u001b[0;34m\u001b[0m\u001b[0m\n\u001b[1;32m    218\u001b[0m \u001b[0;34m\u001b[0m\u001b[0m\n",
            "\u001b[0;32m/usr/local/lib/python3.7/dist-packages/xgboost/training.py\u001b[0m in \u001b[0;36m_train_internal\u001b[0;34m(params, dtrain, num_boost_round, evals, obj, feval, xgb_model, callbacks)\u001b[0m\n\u001b[1;32m     72\u001b[0m         \u001b[0;31m# Skip the first update if it is a recovery step.\u001b[0m\u001b[0;34m\u001b[0m\u001b[0;34m\u001b[0m\u001b[0;34m\u001b[0m\u001b[0m\n\u001b[1;32m     73\u001b[0m         \u001b[0;32mif\u001b[0m \u001b[0mversion\u001b[0m \u001b[0;34m%\u001b[0m \u001b[0;36m2\u001b[0m \u001b[0;34m==\u001b[0m \u001b[0;36m0\u001b[0m\u001b[0;34m:\u001b[0m\u001b[0;34m\u001b[0m\u001b[0;34m\u001b[0m\u001b[0m\n\u001b[0;32m---> 74\u001b[0;31m             \u001b[0mbst\u001b[0m\u001b[0;34m.\u001b[0m\u001b[0mupdate\u001b[0m\u001b[0;34m(\u001b[0m\u001b[0mdtrain\u001b[0m\u001b[0;34m,\u001b[0m \u001b[0mi\u001b[0m\u001b[0;34m,\u001b[0m \u001b[0mobj\u001b[0m\u001b[0;34m)\u001b[0m\u001b[0;34m\u001b[0m\u001b[0;34m\u001b[0m\u001b[0m\n\u001b[0m\u001b[1;32m     75\u001b[0m             \u001b[0mbst\u001b[0m\u001b[0;34m.\u001b[0m\u001b[0msave_rabit_checkpoint\u001b[0m\u001b[0;34m(\u001b[0m\u001b[0;34m)\u001b[0m\u001b[0;34m\u001b[0m\u001b[0;34m\u001b[0m\u001b[0m\n\u001b[1;32m     76\u001b[0m             \u001b[0mversion\u001b[0m \u001b[0;34m+=\u001b[0m \u001b[0;36m1\u001b[0m\u001b[0;34m\u001b[0m\u001b[0;34m\u001b[0m\u001b[0m\n",
            "\u001b[0;32m/usr/local/lib/python3.7/dist-packages/xgboost/core.py\u001b[0m in \u001b[0;36mupdate\u001b[0;34m(self, dtrain, iteration, fobj)\u001b[0m\n\u001b[1;32m   1107\u001b[0m         \u001b[0;32mif\u001b[0m \u001b[0mfobj\u001b[0m \u001b[0;32mis\u001b[0m \u001b[0;32mNone\u001b[0m\u001b[0;34m:\u001b[0m\u001b[0;34m\u001b[0m\u001b[0;34m\u001b[0m\u001b[0m\n\u001b[1;32m   1108\u001b[0m             _check_call(_LIB.XGBoosterUpdateOneIter(self.handle, ctypes.c_int(iteration),\n\u001b[0;32m-> 1109\u001b[0;31m                                                     dtrain.handle))\n\u001b[0m\u001b[1;32m   1110\u001b[0m         \u001b[0;32melse\u001b[0m\u001b[0;34m:\u001b[0m\u001b[0;34m\u001b[0m\u001b[0;34m\u001b[0m\u001b[0m\n\u001b[1;32m   1111\u001b[0m             \u001b[0mpred\u001b[0m \u001b[0;34m=\u001b[0m \u001b[0mself\u001b[0m\u001b[0;34m.\u001b[0m\u001b[0mpredict\u001b[0m\u001b[0;34m(\u001b[0m\u001b[0mdtrain\u001b[0m\u001b[0;34m)\u001b[0m\u001b[0;34m\u001b[0m\u001b[0;34m\u001b[0m\u001b[0m\n",
            "\u001b[0;31mKeyboardInterrupt\u001b[0m: "
          ]
        }
      ]
    },
    {
      "cell_type": "code",
      "source": [
        "for l in base_model.layers:\n",
        "    l.trainable = False"
      ],
      "metadata": {
        "id": "KnEcYdNYC93b"
      },
      "execution_count": null,
      "outputs": []
    },
    {
      "cell_type": "code",
      "source": [
        "lstm_model = Sequential()\n",
        "lstm_model.add(base_model)\n",
        "lstm_model.add(Reshape((base_model.output.shape[1]*base_model.output.shape[2],base_model.output.shape[3])))\n",
        "lstm_model.add(LSTM(128, dropout=0.5,recurrent_dropout=0.5))\n",
        "lstm_model.add(Dense(3,activation='softmax'))\n",
        "\n",
        "lstm_model.compile(optimizer='adam',loss='categorical_crossentropy',metrics=['acc'])"
      ],
      "metadata": {
        "id": "eYj79vMgEHKM"
      },
      "execution_count": null,
      "outputs": []
    },
    {
      "cell_type": "code",
      "source": [
        "bidir_model = Sequential()\n",
        "bidir_model.add(base_model)\n",
        "bidir_model.add(Reshape((base_model.output.shape[1]*base_model.output.shape[2],base_model.output.shape[3])))\n",
        "bidir_model.add(Bidirectional(LSTM(128, dropout=0.5,recurrent_dropout=0.5)))\n",
        "bidir_model.add(Dense(3,activation='softmax'))\n",
        "\n",
        "bidir_model.compile(optimizer='adam',loss='categorical_crossentropy',metrics=['acc'])"
      ],
      "metadata": {
        "id": "oFMD5lTCEHOj"
      },
      "execution_count": null,
      "outputs": []
    },
    {
      "cell_type": "code",
      "source": [
        "from tensorflow.keras.callbacks import EarlyStopping, ModelCheckpoint\n",
        "es = EarlyStopping(monitor='val_loss', mode='min', patience=4,restore_best_weights=True, verbose=1)"
      ],
      "metadata": {
        "id": "yzOs_0WNEHQz"
      },
      "execution_count": null,
      "outputs": []
    },
    {
      "cell_type": "code",
      "source": [
        "history = lstm_model.fit(X_train,y_train.toarray(),epochs = 20,validation_data = (X_val,y_val.toarray()),callbacks = [es])\n",
        "lstm_train_predict = np.argmax(lstm_model.predict(X_train),axis=1)\n",
        "lstm_val_predict = np.argmax(lstm_model.predict(X_val),axis=1)\n",
        "lstm_test_predict = np.argmax(lstm_model.predict(X_test),axis=1)\n",
        "eval(\"LSTM\",y_train,lstm_train_predict,y_val,lstm_val_predict,y_test,lstm_test_predict)"
      ],
      "metadata": {
        "colab": {
          "base_uri": "https://localhost:8080/"
        },
        "id": "2_c2_fEXEHS0",
        "outputId": "43811ccd-c17f-4b1e-f673-e8b2f9375fff"
      },
      "execution_count": null,
      "outputs": [
        {
          "output_type": "stream",
          "name": "stdout",
          "text": [
            "Epoch 1/20\n",
            "19/19 [==============================] - 16s 560ms/step - loss: 0.9306 - acc: 0.5973 - val_loss: 0.7341 - val_acc: 0.6567\n",
            "Epoch 2/20\n",
            "19/19 [==============================] - 9s 478ms/step - loss: 0.6394 - acc: 0.7433 - val_loss: 0.6260 - val_acc: 0.7761\n",
            "Epoch 3/20\n",
            "19/19 [==============================] - 9s 482ms/step - loss: 0.4737 - acc: 0.8221 - val_loss: 0.6135 - val_acc: 0.7761\n",
            "Epoch 4/20\n",
            "19/19 [==============================] - 9s 466ms/step - loss: 0.4230 - acc: 0.8372 - val_loss: 0.6057 - val_acc: 0.7463\n",
            "Epoch 5/20\n",
            "19/19 [==============================] - 9s 459ms/step - loss: 0.3758 - acc: 0.8674 - val_loss: 0.6498 - val_acc: 0.8060\n",
            "Epoch 6/20\n",
            "19/19 [==============================] - 9s 498ms/step - loss: 0.2672 - acc: 0.9195 - val_loss: 0.5860 - val_acc: 0.8209\n",
            "Epoch 7/20\n",
            "19/19 [==============================] - 10s 502ms/step - loss: 0.2247 - acc: 0.9245 - val_loss: 0.6667 - val_acc: 0.8060\n",
            "Epoch 8/20\n",
            "19/19 [==============================] - 10s 505ms/step - loss: 0.1618 - acc: 0.9530 - val_loss: 0.6131 - val_acc: 0.7761\n",
            "Epoch 9/20\n",
            "19/19 [==============================] - 9s 487ms/step - loss: 0.1334 - acc: 0.9631 - val_loss: 0.5921 - val_acc: 0.8358\n",
            "Epoch 10/20\n",
            "19/19 [==============================] - ETA: 0s - loss: 0.1405 - acc: 0.9564Restoring model weights from the end of the best epoch: 6.\n",
            "19/19 [==============================] - 9s 486ms/step - loss: 0.1405 - acc: 0.9564 - val_loss: 0.7378 - val_acc: 0.8209\n",
            "Epoch 10: early stopping\n",
            "classifier LSTM\n",
            "train_accuracy 0.9614\n",
            "val_accuracy 0.8209\n",
            "test_accuracy 0.7436\n",
            "f1_measure 0.7349\n",
            "kappa_score 0.5652\n",
            "recall 0.7436\n",
            "precision 0.7489\n",
            "----------------------------------------\n"
          ]
        }
      ]
    },
    {
      "cell_type": "code",
      "source": [
        "history = bidir_model.fit(X_train,y_train.toarray(),epochs = 20,validation_data = (X_val,y_val.toarray()),callbacks = [es])\n",
        "bidir_train_predict = np.argmax(bidir_model.predict(X_train),axis=1)\n",
        "bidir_val_predict = np.argmax(bidir_model.predict(X_val),axis=1)\n",
        "bidir_test_predict = np.argmax(bidir_model.predict(X_test),axis=1)\n",
        "eval(\"Bi-dir\",y_train,bidir_train_predict,y_val,bidir_val_predict,y_test,bidir_test_predict)"
      ],
      "metadata": {
        "colab": {
          "base_uri": "https://localhost:8080/"
        },
        "id": "1NcYXumQEHVE",
        "outputId": "ed67f5d3-5df9-419f-81b3-e00102e71b1c"
      },
      "execution_count": null,
      "outputs": [
        {
          "output_type": "stream",
          "name": "stdout",
          "text": [
            "Epoch 1/20\n",
            "19/19 [==============================] - 22s 741ms/step - loss: 0.8176 - acc: 0.6342 - val_loss: 0.6348 - val_acc: 0.7015\n",
            "Epoch 2/20\n",
            "19/19 [==============================] - 12s 617ms/step - loss: 0.5060 - acc: 0.8020 - val_loss: 0.5926 - val_acc: 0.7761\n",
            "Epoch 3/20\n",
            "19/19 [==============================] - 11s 606ms/step - loss: 0.3862 - acc: 0.8624 - val_loss: 0.5487 - val_acc: 0.8060\n",
            "Epoch 4/20\n",
            "19/19 [==============================] - 12s 613ms/step - loss: 0.3005 - acc: 0.9010 - val_loss: 0.8159 - val_acc: 0.7164\n",
            "Epoch 5/20\n",
            "19/19 [==============================] - 12s 646ms/step - loss: 0.2612 - acc: 0.9111 - val_loss: 0.5913 - val_acc: 0.8060\n",
            "Epoch 6/20\n",
            "19/19 [==============================] - 11s 604ms/step - loss: 0.1985 - acc: 0.9430 - val_loss: 0.5782 - val_acc: 0.8209\n",
            "Epoch 7/20\n",
            "19/19 [==============================] - ETA: 0s - loss: 0.1562 - acc: 0.9564Restoring model weights from the end of the best epoch: 3.\n",
            "19/19 [==============================] - 14s 739ms/step - loss: 0.1562 - acc: 0.9564 - val_loss: 0.7309 - val_acc: 0.7761\n",
            "Epoch 7: early stopping\n",
            "classifier Bi-dir\n",
            "train_accuracy 0.9279\n",
            "val_accuracy 0.806\n",
            "test_accuracy 0.7607\n",
            "f1_measure 0.7575\n",
            "kappa_score 0.6051\n",
            "recall 0.7607\n",
            "precision 0.76\n",
            "----------------------------------------\n"
          ]
        }
      ]
    },
    {
      "cell_type": "code",
      "source": [
        "df"
      ],
      "metadata": {
        "colab": {
          "base_uri": "https://localhost:8080/",
          "height": 332
        },
        "id": "UOVMJZSKEHXN",
        "outputId": "ac833374-b797-4d67-beea-14ffe6ddbd89"
      },
      "execution_count": null,
      "outputs": [
        {
          "output_type": "execute_result",
          "data": {
            "text/plain": [
              "      classifier  train_accuracy  val_accuracy  test_accuracy  f1_measure  \\\n",
              "0            SVM          0.9279        0.7910         0.7949      0.7871   \n",
              "1  Random Forest          1.0000        0.7313         0.7179      0.7007   \n",
              "2       AdaBoost          0.8322        0.7761         0.6239      0.5883   \n",
              "3            KNN          0.8154        0.6716         0.7179      0.7145   \n",
              "4        XGBoost          1.0000        0.7463         0.7863      0.7757   \n",
              "5        Bagging          0.9933        0.5970         0.7179      0.7032   \n",
              "6            ANN          1.0000        0.8209         0.8034      0.7963   \n",
              "7           LSTM          0.9614        0.8209         0.7436      0.7349   \n",
              "8         Bi-dir          0.9279        0.8060         0.7607      0.7575   \n",
              "\n",
              "   kappa_score  recall  Precision  \n",
              "0       0.6506  0.7949     0.8087  \n",
              "1       0.5071  0.7179     0.7503  \n",
              "2       0.3257  0.6239     0.6605  \n",
              "3       0.5413  0.7179     0.7155  \n",
              "4       0.6311  0.7863     0.8168  \n",
              "5       0.5090  0.7179     0.7582  \n",
              "6       0.6701  0.8034     0.8045  \n",
              "7       0.5652  0.7436     0.7489  \n",
              "8       0.6051  0.7607     0.7600  "
            ],
            "text/html": [
              "\n",
              "  <div id=\"df-9162d7f5-f2f1-4945-aaa5-a1c169b92bf6\">\n",
              "    <div class=\"colab-df-container\">\n",
              "      <div>\n",
              "<style scoped>\n",
              "    .dataframe tbody tr th:only-of-type {\n",
              "        vertical-align: middle;\n",
              "    }\n",
              "\n",
              "    .dataframe tbody tr th {\n",
              "        vertical-align: top;\n",
              "    }\n",
              "\n",
              "    .dataframe thead th {\n",
              "        text-align: right;\n",
              "    }\n",
              "</style>\n",
              "<table border=\"1\" class=\"dataframe\">\n",
              "  <thead>\n",
              "    <tr style=\"text-align: right;\">\n",
              "      <th></th>\n",
              "      <th>classifier</th>\n",
              "      <th>train_accuracy</th>\n",
              "      <th>val_accuracy</th>\n",
              "      <th>test_accuracy</th>\n",
              "      <th>f1_measure</th>\n",
              "      <th>kappa_score</th>\n",
              "      <th>recall</th>\n",
              "      <th>Precision</th>\n",
              "    </tr>\n",
              "  </thead>\n",
              "  <tbody>\n",
              "    <tr>\n",
              "      <th>0</th>\n",
              "      <td>SVM</td>\n",
              "      <td>0.9279</td>\n",
              "      <td>0.7910</td>\n",
              "      <td>0.7949</td>\n",
              "      <td>0.7871</td>\n",
              "      <td>0.6506</td>\n",
              "      <td>0.7949</td>\n",
              "      <td>0.8087</td>\n",
              "    </tr>\n",
              "    <tr>\n",
              "      <th>1</th>\n",
              "      <td>Random Forest</td>\n",
              "      <td>1.0000</td>\n",
              "      <td>0.7313</td>\n",
              "      <td>0.7179</td>\n",
              "      <td>0.7007</td>\n",
              "      <td>0.5071</td>\n",
              "      <td>0.7179</td>\n",
              "      <td>0.7503</td>\n",
              "    </tr>\n",
              "    <tr>\n",
              "      <th>2</th>\n",
              "      <td>AdaBoost</td>\n",
              "      <td>0.8322</td>\n",
              "      <td>0.7761</td>\n",
              "      <td>0.6239</td>\n",
              "      <td>0.5883</td>\n",
              "      <td>0.3257</td>\n",
              "      <td>0.6239</td>\n",
              "      <td>0.6605</td>\n",
              "    </tr>\n",
              "    <tr>\n",
              "      <th>3</th>\n",
              "      <td>KNN</td>\n",
              "      <td>0.8154</td>\n",
              "      <td>0.6716</td>\n",
              "      <td>0.7179</td>\n",
              "      <td>0.7145</td>\n",
              "      <td>0.5413</td>\n",
              "      <td>0.7179</td>\n",
              "      <td>0.7155</td>\n",
              "    </tr>\n",
              "    <tr>\n",
              "      <th>4</th>\n",
              "      <td>XGBoost</td>\n",
              "      <td>1.0000</td>\n",
              "      <td>0.7463</td>\n",
              "      <td>0.7863</td>\n",
              "      <td>0.7757</td>\n",
              "      <td>0.6311</td>\n",
              "      <td>0.7863</td>\n",
              "      <td>0.8168</td>\n",
              "    </tr>\n",
              "    <tr>\n",
              "      <th>5</th>\n",
              "      <td>Bagging</td>\n",
              "      <td>0.9933</td>\n",
              "      <td>0.5970</td>\n",
              "      <td>0.7179</td>\n",
              "      <td>0.7032</td>\n",
              "      <td>0.5090</td>\n",
              "      <td>0.7179</td>\n",
              "      <td>0.7582</td>\n",
              "    </tr>\n",
              "    <tr>\n",
              "      <th>6</th>\n",
              "      <td>ANN</td>\n",
              "      <td>1.0000</td>\n",
              "      <td>0.8209</td>\n",
              "      <td>0.8034</td>\n",
              "      <td>0.7963</td>\n",
              "      <td>0.6701</td>\n",
              "      <td>0.8034</td>\n",
              "      <td>0.8045</td>\n",
              "    </tr>\n",
              "    <tr>\n",
              "      <th>7</th>\n",
              "      <td>LSTM</td>\n",
              "      <td>0.9614</td>\n",
              "      <td>0.8209</td>\n",
              "      <td>0.7436</td>\n",
              "      <td>0.7349</td>\n",
              "      <td>0.5652</td>\n",
              "      <td>0.7436</td>\n",
              "      <td>0.7489</td>\n",
              "    </tr>\n",
              "    <tr>\n",
              "      <th>8</th>\n",
              "      <td>Bi-dir</td>\n",
              "      <td>0.9279</td>\n",
              "      <td>0.8060</td>\n",
              "      <td>0.7607</td>\n",
              "      <td>0.7575</td>\n",
              "      <td>0.6051</td>\n",
              "      <td>0.7607</td>\n",
              "      <td>0.7600</td>\n",
              "    </tr>\n",
              "  </tbody>\n",
              "</table>\n",
              "</div>\n",
              "      <button class=\"colab-df-convert\" onclick=\"convertToInteractive('df-9162d7f5-f2f1-4945-aaa5-a1c169b92bf6')\"\n",
              "              title=\"Convert this dataframe to an interactive table.\"\n",
              "              style=\"display:none;\">\n",
              "        \n",
              "  <svg xmlns=\"http://www.w3.org/2000/svg\" height=\"24px\"viewBox=\"0 0 24 24\"\n",
              "       width=\"24px\">\n",
              "    <path d=\"M0 0h24v24H0V0z\" fill=\"none\"/>\n",
              "    <path d=\"M18.56 5.44l.94 2.06.94-2.06 2.06-.94-2.06-.94-.94-2.06-.94 2.06-2.06.94zm-11 1L8.5 8.5l.94-2.06 2.06-.94-2.06-.94L8.5 2.5l-.94 2.06-2.06.94zm10 10l.94 2.06.94-2.06 2.06-.94-2.06-.94-.94-2.06-.94 2.06-2.06.94z\"/><path d=\"M17.41 7.96l-1.37-1.37c-.4-.4-.92-.59-1.43-.59-.52 0-1.04.2-1.43.59L10.3 9.45l-7.72 7.72c-.78.78-.78 2.05 0 2.83L4 21.41c.39.39.9.59 1.41.59.51 0 1.02-.2 1.41-.59l7.78-7.78 2.81-2.81c.8-.78.8-2.07 0-2.86zM5.41 20L4 18.59l7.72-7.72 1.47 1.35L5.41 20z\"/>\n",
              "  </svg>\n",
              "      </button>\n",
              "      \n",
              "  <style>\n",
              "    .colab-df-container {\n",
              "      display:flex;\n",
              "      flex-wrap:wrap;\n",
              "      gap: 12px;\n",
              "    }\n",
              "\n",
              "    .colab-df-convert {\n",
              "      background-color: #E8F0FE;\n",
              "      border: none;\n",
              "      border-radius: 50%;\n",
              "      cursor: pointer;\n",
              "      display: none;\n",
              "      fill: #1967D2;\n",
              "      height: 32px;\n",
              "      padding: 0 0 0 0;\n",
              "      width: 32px;\n",
              "    }\n",
              "\n",
              "    .colab-df-convert:hover {\n",
              "      background-color: #E2EBFA;\n",
              "      box-shadow: 0px 1px 2px rgba(60, 64, 67, 0.3), 0px 1px 3px 1px rgba(60, 64, 67, 0.15);\n",
              "      fill: #174EA6;\n",
              "    }\n",
              "\n",
              "    [theme=dark] .colab-df-convert {\n",
              "      background-color: #3B4455;\n",
              "      fill: #D2E3FC;\n",
              "    }\n",
              "\n",
              "    [theme=dark] .colab-df-convert:hover {\n",
              "      background-color: #434B5C;\n",
              "      box-shadow: 0px 1px 3px 1px rgba(0, 0, 0, 0.15);\n",
              "      filter: drop-shadow(0px 1px 2px rgba(0, 0, 0, 0.3));\n",
              "      fill: #FFFFFF;\n",
              "    }\n",
              "  </style>\n",
              "\n",
              "      <script>\n",
              "        const buttonEl =\n",
              "          document.querySelector('#df-9162d7f5-f2f1-4945-aaa5-a1c169b92bf6 button.colab-df-convert');\n",
              "        buttonEl.style.display =\n",
              "          google.colab.kernel.accessAllowed ? 'block' : 'none';\n",
              "\n",
              "        async function convertToInteractive(key) {\n",
              "          const element = document.querySelector('#df-9162d7f5-f2f1-4945-aaa5-a1c169b92bf6');\n",
              "          const dataTable =\n",
              "            await google.colab.kernel.invokeFunction('convertToInteractive',\n",
              "                                                     [key], {});\n",
              "          if (!dataTable) return;\n",
              "\n",
              "          const docLinkHtml = 'Like what you see? Visit the ' +\n",
              "            '<a target=\"_blank\" href=https://colab.research.google.com/notebooks/data_table.ipynb>data table notebook</a>'\n",
              "            + ' to learn more about interactive tables.';\n",
              "          element.innerHTML = '';\n",
              "          dataTable['output_type'] = 'display_data';\n",
              "          await google.colab.output.renderOutput(dataTable, element);\n",
              "          const docLink = document.createElement('div');\n",
              "          docLink.innerHTML = docLinkHtml;\n",
              "          element.appendChild(docLink);\n",
              "        }\n",
              "      </script>\n",
              "    </div>\n",
              "  </div>\n",
              "  "
            ]
          },
          "metadata": {},
          "execution_count": 23
        }
      ]
    },
    {
      "cell_type": "code",
      "source": [
        "df = pd.DataFrame(columns = ['classifier',\"train_accuracy\",'val_accuracy',\"test_accuracy\",\"f1_measure\",\"kappa_score\",\"recall\",\"Precision\"])\n",
        "for n,c in clsm_list:\n",
        "    classifier_eval(c,n,Xm_feat_train,ym_train.toarray(),Xm_feat_val,ym_val.toarray(),Xm_feat_test,ym_test.toarray())"
      ],
      "metadata": {
        "colab": {
          "base_uri": "https://localhost:8080/"
        },
        "id": "7NkQnoe1EHZM",
        "outputId": "6ff5ef66-4d80-4887-9a2c-bdde86bc099a"
      },
      "execution_count": null,
      "outputs": [
        {
          "output_type": "stream",
          "name": "stdout",
          "text": [
            "classifier SVM\n",
            "train_accuracy 0.9916\n",
            "val_accuracy 0.9104\n",
            "test_accuracy 0.9829\n",
            "f1_measure 0.9829\n",
            "kappa_score 0.9706\n",
            "recall 0.9829\n",
            "precision 0.9829\n",
            "----------------------------------------\n",
            "classifier Random Forest\n",
            "train_accuracy 1.0\n",
            "val_accuracy 0.9104\n",
            "test_accuracy 0.9658\n",
            "f1_measure 0.9655\n",
            "kappa_score 0.9408\n",
            "recall 0.9658\n",
            "precision 0.966\n",
            "----------------------------------------\n",
            "classifier AdaBoost\n",
            "train_accuracy 0.948\n",
            "val_accuracy 0.8955\n",
            "test_accuracy 0.906\n",
            "f1_measure 0.9076\n",
            "kappa_score 0.842\n",
            "recall 0.906\n",
            "precision 0.9134\n",
            "----------------------------------------\n",
            "classifier KNN\n",
            "train_accuracy 0.9799\n",
            "val_accuracy 0.9104\n",
            "test_accuracy 0.9829\n",
            "f1_measure 0.9827\n",
            "kappa_score 0.9704\n",
            "recall 0.9829\n",
            "precision 0.9834\n",
            "----------------------------------------\n",
            "classifier XGBoost\n",
            "train_accuracy 1.0\n",
            "val_accuracy 0.9104\n",
            "test_accuracy 0.9744\n",
            "f1_measure 0.9745\n",
            "kappa_score 0.9562\n",
            "recall 0.9744\n",
            "precision 0.9748\n",
            "----------------------------------------\n"
          ]
        }
      ]
    },
    {
      "cell_type": "code",
      "source": [
        "history = lstm_model.fit(Xm_train,ym_train.toarray(),epochs = 20,validation_data = (Xm_val,ym_val.toarray()),callbacks = [es])\n",
        "lstm_train_predict = np.argmax(lstm_model.predict(Xm_train),axis=1)\n",
        "lstm_val_predict = np.argmax(lstm_model.predict(Xm_val),axis=1)\n",
        "lstm_test_predict = np.argmax(lstm_model.predict(Xm_test),axis=1)\n",
        "eval(\"LSTM\",ym_train,lstm_train_predict,ym_val,lstm_val_predict,ym_test,lstm_test_predict)\n",
        "\n",
        "history = bidir_model.fit(Xm_train,ym_train.toarray(),epochs = 20,validation_data = (Xm_val,ym_val.toarray()),callbacks = [es])\n",
        "bidir_train_predict = np.argmax(bidir_model.predict(Xm_train),axis=1)\n",
        "bidir_val_predict = np.argmax(bidir_model.predict(Xm_val),axis=1)\n",
        "bidir_test_predict = np.argmax(bidir_model.predict(Xm_test),axis=1)\n",
        "eval(\"Bi-LSTM\",ym_train,bidir_train_predict,ym_val,bidir_val_predict,ym_test,bidir_test_predict)"
      ],
      "metadata": {
        "colab": {
          "base_uri": "https://localhost:8080/"
        },
        "id": "osCDCxYuGzWb",
        "outputId": "c392ad66-dde0-47fe-8379-9791e2ff216c"
      },
      "execution_count": null,
      "outputs": [
        {
          "output_type": "stream",
          "name": "stdout",
          "text": [
            "Epoch 1/20\n",
            "19/19 [==============================] - 10s 549ms/step - loss: 0.3021 - acc: 0.9077 - val_loss: 0.2861 - val_acc: 0.9104\n",
            "Epoch 2/20\n",
            "19/19 [==============================] - 9s 485ms/step - loss: 0.0807 - acc: 0.9765 - val_loss: 0.2687 - val_acc: 0.9104\n",
            "Epoch 3/20\n",
            "19/19 [==============================] - 9s 496ms/step - loss: 0.0572 - acc: 0.9866 - val_loss: 0.0817 - val_acc: 0.9552\n",
            "Epoch 4/20\n",
            "19/19 [==============================] - 10s 503ms/step - loss: 0.0508 - acc: 0.9866 - val_loss: 0.1688 - val_acc: 0.9254\n",
            "Epoch 5/20\n",
            "19/19 [==============================] - 9s 499ms/step - loss: 0.0297 - acc: 0.9916 - val_loss: 0.0758 - val_acc: 0.9552\n",
            "Epoch 6/20\n",
            "19/19 [==============================] - 9s 494ms/step - loss: 0.0305 - acc: 0.9916 - val_loss: 0.1128 - val_acc: 0.9403\n",
            "Epoch 7/20\n",
            "19/19 [==============================] - 10s 507ms/step - loss: 0.0251 - acc: 0.9933 - val_loss: 0.1403 - val_acc: 0.9254\n",
            "Epoch 8/20\n",
            "19/19 [==============================] - 10s 501ms/step - loss: 0.0325 - acc: 0.9899 - val_loss: 0.0378 - val_acc: 1.0000\n",
            "Epoch 9/20\n",
            "19/19 [==============================] - 9s 490ms/step - loss: 0.0337 - acc: 0.9933 - val_loss: 0.1387 - val_acc: 0.9403\n",
            "Epoch 10/20\n",
            "19/19 [==============================] - 10s 504ms/step - loss: 0.0304 - acc: 0.9933 - val_loss: 0.1511 - val_acc: 0.9403\n",
            "Epoch 11/20\n",
            "19/19 [==============================] - 9s 486ms/step - loss: 0.0222 - acc: 0.9950 - val_loss: 0.0929 - val_acc: 0.9552\n",
            "Epoch 12/20\n",
            "19/19 [==============================] - ETA: 0s - loss: 0.0149 - acc: 0.9950Restoring model weights from the end of the best epoch: 8.\n",
            "19/19 [==============================] - 10s 508ms/step - loss: 0.0149 - acc: 0.9950 - val_loss: 0.1022 - val_acc: 0.9403\n",
            "Epoch 12: early stopping\n",
            "classifier LSTM\n",
            "train_accuracy 0.9899\n",
            "val_accuracy 1.0\n",
            "test_accuracy 0.9829\n",
            "f1_measure 0.983\n",
            "kappa_score 0.9709\n",
            "recall 0.9829\n",
            "precision 0.9839\n",
            "----------------------------------------\n",
            "Epoch 1/20\n",
            "19/19 [==============================] - 12s 649ms/step - loss: 0.2456 - acc: 0.9211 - val_loss: 0.2168 - val_acc: 0.9104\n",
            "Epoch 2/20\n",
            "19/19 [==============================] - 13s 660ms/step - loss: 0.0654 - acc: 0.9849 - val_loss: 0.1471 - val_acc: 0.9254\n",
            "Epoch 3/20\n",
            "19/19 [==============================] - 12s 658ms/step - loss: 0.0443 - acc: 0.9866 - val_loss: 0.2030 - val_acc: 0.9254\n",
            "Epoch 4/20\n",
            "19/19 [==============================] - 12s 635ms/step - loss: 0.0414 - acc: 0.9883 - val_loss: 0.1812 - val_acc: 0.9403\n",
            "Epoch 5/20\n",
            "19/19 [==============================] - 12s 642ms/step - loss: 0.0267 - acc: 0.9899 - val_loss: 0.0898 - val_acc: 0.9552\n",
            "Epoch 6/20\n",
            "19/19 [==============================] - 14s 736ms/step - loss: 0.0199 - acc: 0.9950 - val_loss: 0.2393 - val_acc: 0.9104\n",
            "Epoch 7/20\n",
            "19/19 [==============================] - 12s 648ms/step - loss: 0.0161 - acc: 0.9966 - val_loss: 0.2840 - val_acc: 0.9104\n",
            "Epoch 8/20\n",
            "19/19 [==============================] - 13s 670ms/step - loss: 0.0148 - acc: 0.9966 - val_loss: 0.2473 - val_acc: 0.9254\n",
            "Epoch 9/20\n",
            "19/19 [==============================] - ETA: 0s - loss: 0.0121 - acc: 0.9950Restoring model weights from the end of the best epoch: 5.\n",
            "19/19 [==============================] - 13s 681ms/step - loss: 0.0121 - acc: 0.9950 - val_loss: 0.1932 - val_acc: 0.9254\n",
            "Epoch 9: early stopping\n",
            "classifier Bi-LSTM\n",
            "train_accuracy 0.9983\n",
            "val_accuracy 0.9552\n",
            "test_accuracy 0.9744\n",
            "f1_measure 0.9742\n",
            "kappa_score 0.9558\n",
            "recall 0.9744\n",
            "precision 0.9743\n",
            "----------------------------------------\n"
          ]
        }
      ]
    },
    {
      "cell_type": "code",
      "source": [
        "print(df)\n",
        "df.to_excel(\"MobileNetV2_m.xlsx\",index=False)"
      ],
      "metadata": {
        "colab": {
          "base_uri": "https://localhost:8080/"
        },
        "id": "h7bkUolVGzYq",
        "outputId": "9909347e-4c11-4ad2-bb68-7d08b69358ec"
      },
      "execution_count": null,
      "outputs": [
        {
          "output_type": "stream",
          "name": "stdout",
          "text": [
            "      classifier  train_accuracy  val_accuracy  test_accuracy  f1_measure  \\\n",
            "0            SVM          0.9916        0.9104         0.9829      0.9829   \n",
            "1  Random Forest          1.0000        0.9104         0.9744      0.9742   \n",
            "2       AdaBoost          0.9480        0.8955         0.9060      0.9076   \n",
            "3            KNN          0.9799        0.9104         0.9829      0.9827   \n",
            "4        XGBoost          1.0000        0.9104         0.9744      0.9745   \n",
            "5        Bagging          1.0000        0.9254         0.9744      0.9745   \n",
            "6            ANN          1.0000        0.9403         0.9744      0.9742   \n",
            "7           LSTM          0.9899        1.0000         0.9829      0.9830   \n",
            "8        Bi-LSTM          0.9983        0.9552         0.9744      0.9742   \n",
            "\n",
            "   kappa_score  recall  Precision  \n",
            "0       0.9706  0.9829     0.9829  \n",
            "1       0.9558  0.9744     0.9743  \n",
            "2       0.8420  0.9060     0.9134  \n",
            "3       0.9704  0.9829     0.9834  \n",
            "4       0.9562  0.9744     0.9748  \n",
            "5       0.9562  0.9744     0.9748  \n",
            "6       0.9558  0.9744     0.9743  \n",
            "7       0.9709  0.9829     0.9839  \n",
            "8       0.9558  0.9744     0.9743  \n"
          ]
        }
      ]
    },
    {
      "cell_type": "code",
      "source": [],
      "metadata": {
        "id": "LwEWeMJpGza0"
      },
      "execution_count": null,
      "outputs": []
    },
    {
      "cell_type": "code",
      "source": [],
      "metadata": {
        "id": "whvt-uv8GzdK"
      },
      "execution_count": null,
      "outputs": []
    },
    {
      "cell_type": "code",
      "source": [],
      "metadata": {
        "id": "RP6y-6PvGzfT"
      },
      "execution_count": null,
      "outputs": []
    },
    {
      "cell_type": "code",
      "source": [],
      "metadata": {
        "id": "SGqbbVvWGzhh"
      },
      "execution_count": null,
      "outputs": []
    },
    {
      "cell_type": "code",
      "source": [],
      "metadata": {
        "id": "ol1MNwXjGzjr"
      },
      "execution_count": null,
      "outputs": []
    },
    {
      "cell_type": "code",
      "source": [],
      "metadata": {
        "id": "GnubaDMtGzmD"
      },
      "execution_count": null,
      "outputs": []
    },
    {
      "cell_type": "code",
      "source": [],
      "metadata": {
        "id": "8TBBiR9jG0CD"
      },
      "execution_count": null,
      "outputs": []
    }
  ]
}