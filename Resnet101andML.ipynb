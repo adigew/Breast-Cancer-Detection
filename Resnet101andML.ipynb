{
  "nbformat": 4,
  "nbformat_minor": 0,
  "metadata": {
    "colab": {
      "provenance": [],
      "authorship_tag": "ABX9TyNYIKB5bHS1nx/cFWi+OAVJ",
      "include_colab_link": true
    },
    "kernelspec": {
      "name": "python3",
      "display_name": "Python 3"
    },
    "language_info": {
      "name": "python"
    }
  },
  "cells": [
    {
      "cell_type": "markdown",
      "metadata": {
        "id": "view-in-github",
        "colab_type": "text"
      },
      "source": [
        "<a href=\"https://colab.research.google.com/github/adigew/Breast-Cancer-Detection/blob/main/Resnet101andML.ipynb\" target=\"_parent\"><img src=\"https://colab.research.google.com/assets/colab-badge.svg\" alt=\"Open In Colab\"/></a>"
      ]
    },
    {
      "cell_type": "code",
      "execution_count": null,
      "metadata": {
        "colab": {
          "base_uri": "https://localhost:8080/"
        },
        "id": "Md2pQs6dJpfo",
        "outputId": "33e73586-186b-4f9f-95ff-76a526db3119"
      },
      "outputs": [
        {
          "output_type": "stream",
          "name": "stdout",
          "text": [
            "Drive already mounted at /content/gdrive; to attempt to forcibly remount, call drive.mount(\"/content/gdrive\", force_remount=True).\n"
          ]
        }
      ],
      "source": [
        "# This Python 3 environment comes with many helpful analytics libraries installed\n",
        "# It is defined by the kaggle/python Docker image: https://github.com/kaggle/docker-python\n",
        "# For example, here's several helpful packages to load\n",
        "\n",
        "import numpy as np # linear algebra\n",
        "import pandas as pd # data processing, CSV file I/O (e.g. pd.read_csv)\n",
        "\n",
        "# Input data files are available in the read-only \"../input/\" directory\n",
        "# For example, running this (by clicking run or pressing Shift+Enter) will list all files under the input directory\n",
        "\n",
        "import os\n",
        "from google.colab import drive\n",
        "drive.mount('/content/gdrive')"
      ]
    },
    {
      "cell_type": "code",
      "source": [
        "from tensorflow import keras\n",
        "import cv2\n",
        "from tensorflow.keras.preprocessing.image import load_img ,img_to_array\n",
        "import matplotlib.pyplot as plt\n",
        "from tensorflow.keras import Model\n",
        "from tensorflow.keras.models import Sequential \n",
        "from tensorflow.keras.layers import Conv2D\n",
        "from tensorflow.keras.layers import MaxPooling2D,AveragePooling2D,BatchNormalization\n",
        "from tensorflow.keras.layers import Dense,Activation\n",
        "from tensorflow.keras.layers import Flatten,Dropout,SpatialDropout2D,AveragePooling2D,GlobalAveragePooling2D\n",
        "from tensorflow.keras.optimizers import SGD\n",
        "from tensorflow.keras.optimizers import Adam\n",
        "import tensorflow as tf\n",
        "from tensorflow.keras.callbacks import EarlyStopping, ModelCheckpoint"
      ],
      "metadata": {
        "id": "hpJIJOKZXFTJ"
      },
      "execution_count": null,
      "outputs": []
    },
    {
      "cell_type": "code",
      "source": [
        "path = \"/content/gdrive/My Drive/Breast_Cancer/Ultrasound/Dataset_BUSI_with_GT\"\n",
        "dir_list = [os.path.join(path,i) for i in os.listdir(path)]\n",
        "size_dict = {}\n",
        "for i,value in enumerate(dir_list):\n",
        "    size_dict[os.listdir(path)[i]] = len(os.listdir(value))\n",
        "size_dict "
      ],
      "metadata": {
        "colab": {
          "base_uri": "https://localhost:8080/"
        },
        "id": "U-ScOqPkYyYS",
        "outputId": "a0c59dcd-6cee-4583-ee1b-597cb639bdaf"
      },
      "execution_count": null,
      "outputs": [
        {
          "output_type": "execute_result",
          "data": {
            "text/plain": [
              "{'normal': 266, 'malignant': 421, 'benign': 891}"
            ]
          },
          "metadata": {},
          "execution_count": 34
        }
      ]
    },
    {
      "cell_type": "code",
      "source": [
        "img_size = 128\n",
        "img_channel = 3\n",
        "X_b , Xm_b , y_b = np.zeros((437,img_size,img_size,img_channel)) , np.zeros((437,img_size,img_size,img_channel)) , np.full(437,'benign') \n",
        "X_n , Xm_n , y_n = np.zeros((133,img_size,img_size,img_channel)) , np.zeros((133,img_size,img_size,img_channel)) , np.full(133,'normal') \n",
        "X_m , Xm_m , y_m = np.zeros((210,img_size,img_size,img_channel)) , np.zeros((210,img_size,img_size,img_channel)) , np.full(210,'malignant')\n"
      ],
      "metadata": {
        "id": "RQy9Hy2yYya5"
      },
      "execution_count": null,
      "outputs": []
    },
    {
      "cell_type": "code",
      "source": [
        "img1_path = os.path.join(os.path.join(path,'benign'),os.listdir(os.path.join(path,'benign'))[1])\n",
        "\n",
        "pil_img = load_img(img1_path,color_mode = 'rgb',target_size=(img_size,img_size))\n",
        "img = img_to_array(pil_img)\n",
        "img_shape = img.shape\n",
        "print(img_shape)\n",
        "\n",
        "def img_num(filename):\n",
        "    \n",
        "    val = 0\n",
        "    \n",
        "    for i in range(len(filename)) :\n",
        "        if filename[i] == '(' :\n",
        "            while True :\n",
        "                i += 1\n",
        "                if filename[i] == ')' :\n",
        "                    break\n",
        "                val = (val*10) + int(filename[i])\n",
        "            break\n",
        "    \n",
        "    return val\n",
        "\n",
        "for tumor_path in dir_list :\n",
        "    for image in os.listdir(tumor_path) :\n",
        "        p = os.path.join(tumor_path, image)\n",
        "        pil_img = load_img(p,color_mode = 'rgb',target_size=(img_size,img_size))         # read image as  grayscale ans resize it\n",
        "        \n",
        "        if image[-5] == ')' :                                   #if real image \n",
        "            \n",
        "            if image[0] == 'b' :\n",
        "                X_b[img_num(image)-1]+= img_to_array(pil_img)  # If image is real add it\n",
        "            if image[0] == 'n' :                               # to X as benign , normal\n",
        "                X_n[img_num(image)-1]+= img_to_array(pil_img)  # or malignant.\n",
        "            if image[0] == 'm' :\n",
        "                X_m[img_num(image)-1]+= img_to_array(pil_img)\n",
        "        else :                                                 #else masked image\n",
        "            \n",
        "            if image[0] == 'b' :\n",
        "                Xm_b[img_num(image)-1]+= img_to_array(pil_img)  # Similarly add the target\n",
        "            if image[0] == 'n' :                               # mask to y.\n",
        "                Xm_n[img_num(image)-1]+= img_to_array(pil_img)\n",
        "            if image[0] == 'm' :\n",
        "                Xm_m[img_num(image)-1]+= img_to_array(pil_img)"
      ],
      "metadata": {
        "colab": {
          "base_uri": "https://localhost:8080/"
        },
        "id": "mJbOeY5FYydu",
        "outputId": "af410c58-cf34-4f36-ad9d-d0393f9a698e"
      },
      "execution_count": null,
      "outputs": [
        {
          "output_type": "stream",
          "name": "stdout",
          "text": [
            "(128, 128, 3)\n"
          ]
        }
      ]
    },
    {
      "cell_type": "code",
      "source": [
        "X = np.concatenate((X_b, X_n, X_m), axis = 0)\n",
        "Xm = np.concatenate((Xm_b, Xm_n, Xm_m), axis = 0)\n",
        "y = np.concatenate((y_b, y_n, y_m), axis = 0)\n",
        "\n",
        "print(X.shape)\n",
        "print(Xm.shape)\n",
        "print(y.shape)\n",
        "X /= 255.0\n",
        "Xm /= 255.0\n",
        "\n",
        "print(X.max())\n",
        "print(Xm.min())"
      ],
      "metadata": {
        "colab": {
          "base_uri": "https://localhost:8080/"
        },
        "id": "waTlWv7PYyjU",
        "outputId": "ea32eb51-686f-48e5-d0e7-5b0f5f7b6470"
      },
      "execution_count": null,
      "outputs": [
        {
          "output_type": "stream",
          "name": "stdout",
          "text": [
            "(780, 128, 128, 3)\n",
            "(780, 128, 128, 3)\n",
            "(780,)\n",
            "1.0\n",
            "0.0\n"
          ]
        }
      ]
    },
    {
      "cell_type": "code",
      "source": [
        "from sklearn.model_selection import train_test_split\n",
        "from sklearn.preprocessing import OneHotEncoder\n",
        "\n",
        "encoder  = OneHotEncoder()\n",
        "# y = y.toarray()\n",
        "y=encoder.fit_transform(y.reshape(y.shape[0],1))\n",
        "\n",
        "X_train,X_test,y_train,y_test = train_test_split(X,y,test_size = 0.15,shuffle=True)\n",
        "X_train,X_val,y_train,y_val = train_test_split(X_train,y_train,test_size=0.1,stratify = y_train.toarray())\n",
        "Xm_train,Xm_test,ym_train,ym_test = train_test_split(Xm,y,test_size = 0.15,shuffle=True,stratify=y.toarray())\n",
        "Xm_train,Xm_val,ym_train,ym_val = train_test_split(Xm_train,ym_train,test_size=0.1,stratify = ym_train.toarray())\n",
        "\n",
        "class_list = encoder.categories_\n",
        "print(X_train.shape,X_test.shape)\n",
        "print(y_train.shape,y_test.shape)"
      ],
      "metadata": {
        "colab": {
          "base_uri": "https://localhost:8080/"
        },
        "id": "-B1_tO1WYymW",
        "outputId": "6dccc0a5-8843-4013-ad91-477973713468"
      },
      "execution_count": null,
      "outputs": [
        {
          "output_type": "stream",
          "name": "stdout",
          "text": [
            "(596, 128, 128, 3) (117, 128, 128, 3)\n",
            "(596, 3) (117, 3)\n"
          ]
        }
      ]
    },
    {
      "cell_type": "code",
      "source": [
        "base_model = tf.keras.applications.ResNet101(\n",
        "    include_top=False,\n",
        "    weights=\"imagenet\",\n",
        "    input_tensor=None,\n",
        "    input_shape=img_shape,\n",
        "    pooling=None\n",
        ")\n",
        "\n",
        "X_feat_out = base_model.output\n",
        "X_feat_flatten = Flatten()(X_feat_out)\n",
        "\n",
        "X_feat_model = Model(inputs = base_model.input,outputs = X_feat_flatten)\n",
        "X_feat_train = X_feat_model.predict(X_train)\n",
        "X_feat_val = X_feat_model.predict(X_val)\n",
        "X_feat_test = X_feat_model.predict(X_test)\n",
        "\n",
        "Xm_feat_train = X_feat_model.predict(Xm_train)\n",
        "Xm_feat_val = X_feat_model.predict(Xm_val)\n",
        "Xm_feat_test = X_feat_model.predict(Xm_test)"
      ],
      "metadata": {
        "id": "KwqH8XA2Yyo6"
      },
      "execution_count": null,
      "outputs": []
    },
    {
      "cell_type": "code",
      "source": [
        "from sklearn.pipeline import Pipeline\n",
        "from sklearn.svm import SVC\n",
        "from sklearn.ensemble import RandomForestClassifier\n",
        "from sklearn.ensemble import AdaBoostClassifier\n",
        "from sklearn.neighbors import KNeighborsClassifier\n",
        "from xgboost import XGBClassifier\n",
        "from sklearn.ensemble import BaggingClassifier\n",
        "from sklearn.neural_network import MLPClassifier\n",
        "from tensorflow.keras.layers import LSTM,Bidirectional,Reshape\n",
        "from sklearn.metrics import accuracy_score,recall_score,precision_score,f1_score,roc_auc_score,cohen_kappa_score"
      ],
      "metadata": {
        "id": "CU0uwfhxYyr7"
      },
      "execution_count": null,
      "outputs": []
    },
    {
      "cell_type": "code",
      "source": [
        "df = pd.DataFrame(columns = ['classifier',\"train_accuracy\",'val_accuracy',\"test_accuracy\",\"f1_measure\",\"kappa_score\",\"recall\",\"Precision\"])\n"
      ],
      "metadata": {
        "id": "WmSLE30wOfRS"
      },
      "execution_count": null,
      "outputs": []
    },
    {
      "cell_type": "code",
      "source": [
        "def eval(classifier_name,y_train,y_train_pred,y_val,y_val_pred,y_true,y_pred):\n",
        "    y_train = np.argmax(y_train,axis=1)\n",
        "#     y_train_pred = np.argmax(y_train_pred,axis=1)\n",
        "    y_val = np.argmax(y_val,axis=1)\n",
        "#     y_val_pred = np.argmax(y_val_pred,axis=1)\n",
        "    y_true = np.argmax(y_true,axis=1)\n",
        "#     y_pred = np.argmax(y_pred,axis=1)\n",
        "    \n",
        "    train_accuracy = round(accuracy_score(y_train,y_train_pred),4)\n",
        "    val_accuracy = round(accuracy_score(y_val,y_val_pred),4)\n",
        "    test_accuracy = round(accuracy_score(y_true,y_pred),4)\n",
        "    f1_measure = round(f1_score(y_true,y_pred,average='weighted'),4)\n",
        "    kappa_score = round(cohen_kappa_score(y_true,y_pred),4)\n",
        "    recall = round(recall_score(y_true,y_pred,average='weighted'),4)\n",
        "    precision = round(precision_score(y_true,y_pred,average='weighted'),4)\n",
        "    \n",
        "    score = {\"classifier\":classifier_name,\"train_accuracy\":train_accuracy , \"val_accuracy\":val_accuracy,\"test_accuracy\":test_accuracy,\"f1_measure\":f1_measure,\"kappa_score\":kappa_score,\"recall\":recall,\"precision\":precision}\n",
        "#     df = df.append(score,ignore_index=True)\n",
        "    df.loc[len(df.index)] = score.values()\n",
        "    for e,a in score.items():\n",
        "        print(e,a)\n",
        "    print(\"--\"*20)\n",
        "    "
      ],
      "metadata": {
        "id": "ifPHDcr9OfTy"
      },
      "execution_count": null,
      "outputs": []
    },
    {
      "cell_type": "code",
      "source": [
        "names = ['SVM',\n",
        "    'Random Forest',\n",
        "    'AdaBoost',\n",
        "    'KNN',\n",
        "    'XGBoost',\n",
        "    'Bagging',\n",
        "    'ANN'\n",
        "        ]\n",
        "\n",
        "classifier = [\n",
        "    SVC(),\n",
        "    RandomForestClassifier(),\n",
        "    AdaBoostClassifier(),\n",
        "    KNeighborsClassifier(),\n",
        "    XGBClassifier(),\n",
        "    BaggingClassifier(),\n",
        "    MLPClassifier(max_iter = 400),\n",
        "]\n",
        "\n",
        "cls_list = zip(names,classifier)\n",
        "clsm_list = zip(names,classifier)"
      ],
      "metadata": {
        "id": "kxIYMGtkOfV7"
      },
      "execution_count": null,
      "outputs": []
    },
    {
      "cell_type": "code",
      "source": [
        "def classifier_eval(classifier,classifier_name,X_train,y_train,X_val,y_val,X_test,y_test):\n",
        "    \n",
        "    classifier.fit(X_train,np.argmax(y_train,axis=1))\n",
        "    \n",
        "    y_train_pred = classifier.predict(X_train)\n",
        "    y_val_pred = classifier.predict(X_val)\n",
        "    y_test_pred = classifier.predict(X_test)\n",
        "    \n",
        "    eval(classifier_name,y_train,y_train_pred,y_val,y_val_pred,y_test,y_test_pred)"
      ],
      "metadata": {
        "id": "0gT17t3rY8eH"
      },
      "execution_count": null,
      "outputs": []
    },
    {
      "cell_type": "code",
      "source": [
        "for n,c in cls_list:\n",
        "    classifier_eval(c,n,X_feat_train,y_train.toarray(),X_feat_val,y_val.toarray(),X_feat_test,y_test.toarray())"
      ],
      "metadata": {
        "colab": {
          "base_uri": "https://localhost:8080/"
        },
        "id": "sw1l3GvaOnbJ",
        "outputId": "844bde6c-57c0-40e5-97cc-bf80268755da"
      },
      "execution_count": null,
      "outputs": [
        {
          "output_type": "stream",
          "name": "stderr",
          "text": [
            "/usr/local/lib/python3.7/dist-packages/sklearn/metrics/_classification.py:1318: UndefinedMetricWarning: Precision is ill-defined and being set to 0.0 in labels with no predicted samples. Use `zero_division` parameter to control this behavior.\n",
            "  _warn_prf(average, modifier, msg_start, len(result))\n"
          ]
        },
        {
          "output_type": "stream",
          "name": "stdout",
          "text": [
            "classifier SVM\n",
            "train_accuracy 0.5638\n",
            "val_accuracy 0.5672\n",
            "test_accuracy 0.5385\n",
            "f1_measure 0.3769\n",
            "kappa_score 0.0\n",
            "recall 0.5385\n",
            "precision 0.2899\n",
            "----------------------------------------\n",
            "classifier Random Forest\n",
            "train_accuracy 1.0\n",
            "val_accuracy 0.7164\n",
            "test_accuracy 0.735\n",
            "f1_measure 0.7153\n",
            "kappa_score 0.5032\n",
            "recall 0.735\n",
            "precision 0.7801\n",
            "----------------------------------------\n",
            "classifier AdaBoost\n",
            "train_accuracy 0.7903\n",
            "val_accuracy 0.6716\n",
            "test_accuracy 0.6752\n",
            "f1_measure 0.6697\n",
            "kappa_score 0.4271\n",
            "recall 0.6752\n",
            "precision 0.6785\n",
            "----------------------------------------\n",
            "classifier KNN\n",
            "train_accuracy 0.7903\n",
            "val_accuracy 0.6418\n",
            "test_accuracy 0.6325\n",
            "f1_measure 0.6275\n",
            "kappa_score 0.3669\n",
            "recall 0.6325\n",
            "precision 0.628\n",
            "----------------------------------------\n",
            "classifier XGBoost\n",
            "train_accuracy 1.0\n",
            "val_accuracy 0.7761\n",
            "test_accuracy 0.7009\n",
            "f1_measure 0.6905\n",
            "kappa_score 0.4623\n",
            "recall 0.7009\n",
            "precision 0.7082\n",
            "----------------------------------------\n",
            "classifier Bagging\n",
            "train_accuracy 0.9933\n",
            "val_accuracy 0.7015\n",
            "test_accuracy 0.735\n",
            "f1_measure 0.7308\n",
            "kappa_score 0.5394\n",
            "recall 0.735\n",
            "precision 0.7363\n",
            "----------------------------------------\n",
            "classifier ANN\n",
            "train_accuracy 0.8876\n",
            "val_accuracy 0.6567\n",
            "test_accuracy 0.6752\n",
            "f1_measure 0.6707\n",
            "kappa_score 0.4474\n",
            "recall 0.6752\n",
            "precision 0.6801\n",
            "----------------------------------------\n"
          ]
        }
      ]
    },
    {
      "cell_type": "code",
      "source": [
        "for l in base_model.layers:\n",
        "    l.trainable = False"
      ],
      "metadata": {
        "id": "3TJLgRvBOndp"
      },
      "execution_count": null,
      "outputs": []
    },
    {
      "cell_type": "code",
      "source": [
        "lstm_model = Sequential()\n",
        "lstm_model.add(base_model)\n",
        "lstm_model.add(Reshape((base_model.output.shape[1]*base_model.output.shape[2],base_model.output.shape[3])))\n",
        "lstm_model.add(LSTM(128, dropout=0.5,recurrent_dropout=0.5))\n",
        "lstm_model.add(Dense(3,activation='softmax'))\n",
        "\n",
        "lstm_model.compile(optimizer='adam',loss='categorical_crossentropy',metrics=['acc'])"
      ],
      "metadata": {
        "id": "dRjc7ZxIWmHg"
      },
      "execution_count": null,
      "outputs": []
    },
    {
      "cell_type": "code",
      "source": [
        "bidir_model = Sequential()\n",
        "bidir_model.add(base_model)\n",
        "bidir_model.add(Reshape((base_model.output.shape[1]*base_model.output.shape[2],base_model.output.shape[3])))\n",
        "bidir_model.add(Bidirectional(LSTM(128, dropout=0.5,recurrent_dropout=0.5)))\n",
        "bidir_model.add(Dense(3,activation='softmax'))\n",
        "\n",
        "bidir_model.compile(optimizer='adam',loss='categorical_crossentropy',metrics=['acc'])"
      ],
      "metadata": {
        "id": "N5iVgbiAWn_n"
      },
      "execution_count": null,
      "outputs": []
    },
    {
      "cell_type": "code",
      "source": [
        "from tensorflow.keras.callbacks import EarlyStopping, ModelCheckpoint\n",
        "es = EarlyStopping(monitor='val_loss', mode='min', patience=4,restore_best_weights=True, verbose=1)"
      ],
      "metadata": {
        "id": "QiZbtyzvWqaY"
      },
      "execution_count": null,
      "outputs": []
    },
    {
      "cell_type": "code",
      "source": [
        "history = lstm_model.fit(X_train,y_train.toarray(),epochs = 20,validation_data = (X_val,y_val.toarray()),callbacks = [es])\n",
        "lstm_train_predict = np.argmax(lstm_model.predict(X_train),axis=1)\n",
        "lstm_val_predict = np.argmax(lstm_model.predict(X_val),axis=1)\n",
        "lstm_test_predict = np.argmax(lstm_model.predict(X_test),axis=1)\n",
        "eval(\"LSTM\",y_train,lstm_train_predict,y_val,lstm_val_predict,y_test,lstm_test_predict)"
      ],
      "metadata": {
        "colab": {
          "base_uri": "https://localhost:8080/"
        },
        "id": "axUgawiqWrJX",
        "outputId": "d3f527f3-a717-475b-9c1b-57f7cf9214b2"
      },
      "execution_count": null,
      "outputs": [
        {
          "output_type": "stream",
          "name": "stdout",
          "text": [
            "Epoch 1/20\n",
            "19/19 [==============================] - 80s 4s/step - loss: 1.0283 - acc: 0.5352 - val_loss: 0.9560 - val_acc: 0.5672\n",
            "Epoch 2/20\n",
            "19/19 [==============================] - 68s 4s/step - loss: 0.9834 - acc: 0.5638 - val_loss: 0.9468 - val_acc: 0.6269\n",
            "Epoch 3/20\n",
            "19/19 [==============================] - 72s 4s/step - loss: 0.9645 - acc: 0.5621 - val_loss: 0.9267 - val_acc: 0.6418\n",
            "Epoch 4/20\n",
            "19/19 [==============================] - 68s 4s/step - loss: 0.9329 - acc: 0.5872 - val_loss: 0.9332 - val_acc: 0.5672\n",
            "Epoch 5/20\n",
            "19/19 [==============================] - 68s 4s/step - loss: 0.9512 - acc: 0.5789 - val_loss: 1.0005 - val_acc: 0.5672\n",
            "Epoch 6/20\n",
            "19/19 [==============================] - 68s 4s/step - loss: 0.9374 - acc: 0.5654 - val_loss: 0.9535 - val_acc: 0.5672\n",
            "Epoch 7/20\n",
            "19/19 [==============================] - 68s 4s/step - loss: 0.9330 - acc: 0.5822 - val_loss: 0.8847 - val_acc: 0.6567\n",
            "Epoch 8/20\n",
            "19/19 [==============================] - 68s 4s/step - loss: 0.8987 - acc: 0.5990 - val_loss: 0.8833 - val_acc: 0.6418\n",
            "Epoch 9/20\n",
            "19/19 [==============================] - 67s 4s/step - loss: 0.8897 - acc: 0.6057 - val_loss: 0.8735 - val_acc: 0.6418\n",
            "Epoch 10/20\n",
            "19/19 [==============================] - 69s 4s/step - loss: 0.8922 - acc: 0.6007 - val_loss: 0.9149 - val_acc: 0.6269\n",
            "Epoch 11/20\n",
            "19/19 [==============================] - 66s 3s/step - loss: 0.8929 - acc: 0.6141 - val_loss: 0.8847 - val_acc: 0.6269\n",
            "Epoch 12/20\n",
            "19/19 [==============================] - 70s 4s/step - loss: 0.8823 - acc: 0.6242 - val_loss: 0.8888 - val_acc: 0.6269\n",
            "Epoch 13/20\n",
            "19/19 [==============================] - ETA: 0s - loss: 0.8987 - acc: 0.5923Restoring model weights from the end of the best epoch: 9.\n",
            "19/19 [==============================] - 66s 4s/step - loss: 0.8987 - acc: 0.5923 - val_loss: 0.8945 - val_acc: 0.5821\n",
            "Epoch 13: early stopping\n",
            "classifier LSTM\n",
            "train_accuracy 0.6141\n",
            "val_accuracy 0.6418\n",
            "test_accuracy 0.5983\n",
            "f1_measure 0.5437\n",
            "kappa_score 0.2731\n",
            "recall 0.5983\n",
            "precision 0.4985\n",
            "----------------------------------------\n"
          ]
        },
        {
          "output_type": "stream",
          "name": "stderr",
          "text": [
            "/usr/local/lib/python3.7/dist-packages/sklearn/metrics/_classification.py:1318: UndefinedMetricWarning: Precision is ill-defined and being set to 0.0 in labels with no predicted samples. Use `zero_division` parameter to control this behavior.\n",
            "  _warn_prf(average, modifier, msg_start, len(result))\n"
          ]
        }
      ]
    },
    {
      "cell_type": "code",
      "source": [
        "history = bidir_model.fit(X_train,y_train.toarray(),epochs = 20,validation_data = (X_val,y_val.toarray()),callbacks = [es])\n",
        "bidir_train_predict = np.argmax(bidir_model.predict(X_train),axis=1)\n",
        "bidir_val_predict = np.argmax(bidir_model.predict(X_val),axis=1)\n",
        "bidir_test_predict = np.argmax(bidir_model.predict(X_test),axis=1)\n",
        "eval(\"Bi-dir\",y_train,bidir_train_predict,y_val,bidir_val_predict,y_test,bidir_test_predict)"
      ],
      "metadata": {
        "colab": {
          "base_uri": "https://localhost:8080/"
        },
        "id": "DvNY0faGWtzQ",
        "outputId": "a693580c-d68c-48e5-a7ed-9ff2590aae68"
      },
      "execution_count": null,
      "outputs": [
        {
          "output_type": "stream",
          "name": "stdout",
          "text": [
            "Epoch 1/20\n",
            "19/19 [==============================] - 85s 4s/step - loss: 1.0041 - acc: 0.5403 - val_loss: 0.9485 - val_acc: 0.5672\n",
            "Epoch 2/20\n",
            "19/19 [==============================] - 71s 4s/step - loss: 0.9563 - acc: 0.5671 - val_loss: 0.9241 - val_acc: 0.6716\n",
            "Epoch 3/20\n",
            "19/19 [==============================] - 69s 4s/step - loss: 0.9318 - acc: 0.5889 - val_loss: 0.8897 - val_acc: 0.6716\n",
            "Epoch 4/20\n",
            "19/19 [==============================] - 71s 4s/step - loss: 0.9055 - acc: 0.6057 - val_loss: 0.8984 - val_acc: 0.6716\n",
            "Epoch 5/20\n",
            "19/19 [==============================] - 69s 4s/step - loss: 0.9279 - acc: 0.5856 - val_loss: 0.8754 - val_acc: 0.6716\n",
            "Epoch 6/20\n",
            "19/19 [==============================] - 73s 4s/step - loss: 0.8917 - acc: 0.6107 - val_loss: 0.9156 - val_acc: 0.5821\n",
            "Epoch 7/20\n",
            "19/19 [==============================] - 69s 4s/step - loss: 0.9108 - acc: 0.5990 - val_loss: 0.8937 - val_acc: 0.6119\n",
            "Epoch 8/20\n",
            "19/19 [==============================] - 76s 4s/step - loss: 0.8901 - acc: 0.5990 - val_loss: 0.8738 - val_acc: 0.6567\n",
            "Epoch 9/20\n",
            "19/19 [==============================] - 69s 4s/step - loss: 0.8641 - acc: 0.6040 - val_loss: 0.8762 - val_acc: 0.6418\n",
            "Epoch 10/20\n",
            "19/19 [==============================] - 73s 4s/step - loss: 0.8634 - acc: 0.6258 - val_loss: 0.8768 - val_acc: 0.6716\n",
            "Epoch 11/20\n",
            "19/19 [==============================] - 69s 4s/step - loss: 0.8584 - acc: 0.6057 - val_loss: 0.8711 - val_acc: 0.6716\n",
            "Epoch 12/20\n",
            "19/19 [==============================] - 73s 4s/step - loss: 0.8673 - acc: 0.6141 - val_loss: 0.8834 - val_acc: 0.6269\n",
            "Epoch 13/20\n",
            "19/19 [==============================] - 70s 4s/step - loss: 0.8452 - acc: 0.6174 - val_loss: 0.9086 - val_acc: 0.5672\n",
            "Epoch 14/20\n",
            "19/19 [==============================] - 73s 4s/step - loss: 0.8470 - acc: 0.6225 - val_loss: 0.9480 - val_acc: 0.6418\n",
            "Epoch 15/20\n",
            "19/19 [==============================] - 69s 4s/step - loss: 0.8415 - acc: 0.6493 - val_loss: 0.8592 - val_acc: 0.6716\n",
            "Epoch 16/20\n",
            "19/19 [==============================] - 70s 4s/step - loss: 0.8454 - acc: 0.6275 - val_loss: 0.8579 - val_acc: 0.6418\n",
            "Epoch 17/20\n",
            "19/19 [==============================] - 71s 4s/step - loss: 0.8406 - acc: 0.6460 - val_loss: 0.8604 - val_acc: 0.6567\n",
            "Epoch 18/20\n",
            "19/19 [==============================] - 69s 4s/step - loss: 0.8559 - acc: 0.6208 - val_loss: 0.8479 - val_acc: 0.6716\n",
            "Epoch 19/20\n",
            "19/19 [==============================] - 73s 4s/step - loss: 0.8261 - acc: 0.6326 - val_loss: 0.8613 - val_acc: 0.6866\n",
            "Epoch 20/20\n",
            "19/19 [==============================] - 69s 4s/step - loss: 0.8290 - acc: 0.6342 - val_loss: 0.8504 - val_acc: 0.6716\n",
            "classifier Bi-dir\n",
            "train_accuracy 0.6376\n",
            "val_accuracy 0.6716\n",
            "test_accuracy 0.6239\n",
            "f1_measure 0.5656\n",
            "kappa_score 0.3142\n",
            "recall 0.6239\n",
            "precision 0.5173\n",
            "----------------------------------------\n"
          ]
        },
        {
          "output_type": "stream",
          "name": "stderr",
          "text": [
            "/usr/local/lib/python3.7/dist-packages/sklearn/metrics/_classification.py:1318: UndefinedMetricWarning: Precision is ill-defined and being set to 0.0 in labels with no predicted samples. Use `zero_division` parameter to control this behavior.\n",
            "  _warn_prf(average, modifier, msg_start, len(result))\n"
          ]
        }
      ]
    },
    {
      "cell_type": "code",
      "source": [
        "df\n",
        "df.to_excel(\"RESNET101.xlsx\",index=False)"
      ],
      "metadata": {
        "id": "_rIZtSqpnyEt"
      },
      "execution_count": null,
      "outputs": []
    },
    {
      "cell_type": "code",
      "source": [
        "df = pd.DataFrame(columns = ['classifier',\"train_accuracy\",'val_accuracy',\"test_accuracy\",\"f1_measure\",\"kappa_score\",\"recall\",\"Precision\"])\n",
        "for n,c in clsm_list:\n",
        "    classifier_eval(c,n,Xm_feat_train,ym_train.toarray(),Xm_feat_val,ym_val.toarray(),Xm_feat_test,ym_test.toarray())"
      ],
      "metadata": {
        "colab": {
          "base_uri": "https://localhost:8080/"
        },
        "id": "ek3r5QGDWt5v",
        "outputId": "4363f6f3-563a-4e87-9999-71faed8ca214"
      },
      "execution_count": null,
      "outputs": [
        {
          "output_type": "stream",
          "name": "stdout",
          "text": [
            "classifier SVM\n",
            "train_accuracy 0.854\n",
            "val_accuracy 0.7761\n",
            "test_accuracy 0.8376\n",
            "f1_measure 0.822\n",
            "kappa_score 0.7056\n",
            "recall 0.8376\n",
            "precision 0.8635\n",
            "----------------------------------------\n",
            "classifier Random Forest\n",
            "train_accuracy 1.0\n",
            "val_accuracy 0.8955\n",
            "test_accuracy 0.8803\n",
            "f1_measure 0.871\n",
            "kappa_score 0.7831\n",
            "recall 0.8803\n",
            "precision 0.892\n",
            "----------------------------------------\n",
            "classifier AdaBoost\n",
            "train_accuracy 0.8154\n",
            "val_accuracy 0.7761\n",
            "test_accuracy 0.7949\n",
            "f1_measure 0.8007\n",
            "kappa_score 0.6626\n",
            "recall 0.7949\n",
            "precision 0.8196\n",
            "----------------------------------------\n",
            "classifier KNN\n",
            "train_accuracy 0.9161\n",
            "val_accuracy 0.8806\n",
            "test_accuracy 0.8376\n",
            "f1_measure 0.8226\n",
            "kappa_score 0.7047\n",
            "recall 0.8376\n",
            "precision 0.8464\n",
            "----------------------------------------\n",
            "classifier XGBoost\n",
            "train_accuracy 1.0\n",
            "val_accuracy 0.8507\n",
            "test_accuracy 0.906\n",
            "f1_measure 0.901\n",
            "kappa_score 0.8319\n",
            "recall 0.906\n",
            "precision 0.9127\n",
            "----------------------------------------\n",
            "classifier Bagging\n",
            "train_accuracy 0.995\n",
            "val_accuracy 0.8209\n",
            "test_accuracy 0.8803\n",
            "f1_measure 0.871\n",
            "kappa_score 0.7831\n",
            "recall 0.8803\n",
            "precision 0.892\n",
            "----------------------------------------\n",
            "classifier ANN\n",
            "train_accuracy 1.0\n",
            "val_accuracy 0.8657\n",
            "test_accuracy 0.8974\n",
            "f1_measure 0.8942\n",
            "kappa_score 0.8191\n",
            "recall 0.8974\n",
            "precision 0.8977\n",
            "----------------------------------------\n"
          ]
        }
      ]
    },
    {
      "cell_type": "code",
      "source": [
        "history = lstm_model.fit(Xm_train,ym_train.toarray(),epochs = 20,validation_data = (Xm_val,ym_val.toarray()),callbacks = [es])\n",
        "lstm_train_predict = np.argmax(lstm_model.predict(Xm_train),axis=1)\n",
        "lstm_val_predict = np.argmax(lstm_model.predict(Xm_val),axis=1)\n",
        "lstm_test_predict = np.argmax(lstm_model.predict(Xm_test),axis=1)\n",
        "eval(\"LSTM\",ym_train,lstm_train_predict,ym_val,lstm_val_predict,ym_test,lstm_test_predict)\n",
        "\n",
        "history = bidir_model.fit(Xm_train,ym_train.toarray(),epochs = 20,validation_data = (Xm_val,ym_val.toarray()),callbacks = [es])\n",
        "bidir_train_predict = np.argmax(bidir_model.predict(Xm_train),axis=1)\n",
        "bidir_val_predict = np.argmax(bidir_model.predict(Xm_val),axis=1)\n",
        "bidir_test_predict = np.argmax(bidir_model.predict(Xm_test),axis=1)\n",
        "eval(\"Bi-LSTM\",ym_train,bidir_train_predict,ym_val,bidir_val_predict,ym_test,bidir_test_predict)"
      ],
      "metadata": {
        "colab": {
          "base_uri": "https://localhost:8080/"
        },
        "id": "v9IFLnvjW0w3",
        "outputId": "a859bb0f-c833-40b6-997a-08e0ee69ba4d"
      },
      "execution_count": null,
      "outputs": [
        {
          "output_type": "stream",
          "name": "stdout",
          "text": [
            "Epoch 1/20\n",
            "19/19 [==============================] - 68s 4s/step - loss: 1.0835 - acc: 0.4732 - val_loss: 0.8180 - val_acc: 0.5672\n",
            "Epoch 2/20\n",
            "19/19 [==============================] - 67s 3s/step - loss: 0.7325 - acc: 0.6795 - val_loss: 0.5338 - val_acc: 0.7313\n",
            "Epoch 3/20\n",
            "19/19 [==============================] - 66s 3s/step - loss: 0.5474 - acc: 0.7450 - val_loss: 0.4427 - val_acc: 0.7761\n",
            "Epoch 4/20\n",
            "19/19 [==============================] - 67s 4s/step - loss: 0.4382 - acc: 0.8121 - val_loss: 0.4458 - val_acc: 0.8060\n",
            "Epoch 5/20\n",
            "19/19 [==============================] - 65s 3s/step - loss: 0.3960 - acc: 0.8490 - val_loss: 0.3529 - val_acc: 0.8657\n",
            "Epoch 6/20\n",
            "19/19 [==============================] - 68s 4s/step - loss: 0.3408 - acc: 0.8826 - val_loss: 0.5042 - val_acc: 0.8358\n",
            "Epoch 7/20\n",
            "19/19 [==============================] - 66s 3s/step - loss: 0.3130 - acc: 0.8792 - val_loss: 0.3570 - val_acc: 0.8657\n",
            "Epoch 8/20\n",
            "19/19 [==============================] - 68s 4s/step - loss: 0.2781 - acc: 0.8943 - val_loss: 0.4614 - val_acc: 0.8358\n",
            "Epoch 9/20\n",
            "19/19 [==============================] - ETA: 0s - loss: 0.2517 - acc: 0.9128Restoring model weights from the end of the best epoch: 5.\n",
            "19/19 [==============================] - 66s 3s/step - loss: 0.2517 - acc: 0.9128 - val_loss: 0.4395 - val_acc: 0.8358\n",
            "Epoch 9: early stopping\n",
            "classifier LSTM\n",
            "train_accuracy 0.8758\n",
            "val_accuracy 0.8657\n",
            "test_accuracy 0.8547\n",
            "f1_measure 0.8389\n",
            "kappa_score 0.7329\n",
            "recall 0.8547\n",
            "precision 0.872\n",
            "----------------------------------------\n",
            "Epoch 1/20\n",
            "19/19 [==============================] - 69s 4s/step - loss: 1.0140 - acc: 0.5688 - val_loss: 0.6198 - val_acc: 0.8209\n",
            "Epoch 2/20\n",
            "19/19 [==============================] - 72s 4s/step - loss: 0.5833 - acc: 0.7550 - val_loss: 0.5246 - val_acc: 0.7164\n",
            "Epoch 3/20\n",
            "19/19 [==============================] - 69s 4s/step - loss: 0.4589 - acc: 0.8054 - val_loss: 0.3388 - val_acc: 0.8209\n",
            "Epoch 4/20\n",
            "19/19 [==============================] - 72s 4s/step - loss: 0.3629 - acc: 0.8674 - val_loss: 0.3123 - val_acc: 0.8657\n",
            "Epoch 5/20\n",
            "19/19 [==============================] - 69s 4s/step - loss: 0.3046 - acc: 0.8826 - val_loss: 0.3280 - val_acc: 0.8657\n",
            "Epoch 6/20\n",
            "19/19 [==============================] - 71s 4s/step - loss: 0.2816 - acc: 0.8876 - val_loss: 0.3347 - val_acc: 0.8806\n",
            "Epoch 7/20\n",
            "19/19 [==============================] - 69s 4s/step - loss: 0.2597 - acc: 0.9027 - val_loss: 0.3165 - val_acc: 0.8955\n",
            "Epoch 8/20\n",
            "19/19 [==============================] - ETA: 0s - loss: 0.2359 - acc: 0.9027Restoring model weights from the end of the best epoch: 4.\n",
            "19/19 [==============================] - 71s 4s/step - loss: 0.2359 - acc: 0.9027 - val_loss: 0.3177 - val_acc: 0.8955\n",
            "Epoch 8: early stopping\n",
            "classifier Bi-LSTM\n",
            "train_accuracy 0.9211\n",
            "val_accuracy 0.8657\n",
            "test_accuracy 0.8889\n",
            "f1_measure 0.8812\n",
            "kappa_score 0.7995\n",
            "recall 0.8889\n",
            "precision 0.8988\n",
            "----------------------------------------\n"
          ]
        }
      ]
    },
    {
      "cell_type": "code",
      "source": [
        "print(df)\n",
        "df.to_excel(\"RESNET101_m.xlsx\",index=False)"
      ],
      "metadata": {
        "colab": {
          "base_uri": "https://localhost:8080/"
        },
        "id": "L8vg5GB5W3DK",
        "outputId": "5ffe2b07-371e-46b7-ad2c-b2e94be25891"
      },
      "execution_count": null,
      "outputs": [
        {
          "output_type": "stream",
          "name": "stdout",
          "text": [
            "      classifier  train_accuracy  val_accuracy  test_accuracy  f1_measure  \\\n",
            "0            SVM          0.8540        0.7761         0.8376      0.8220   \n",
            "1  Random Forest          1.0000        0.8955         0.8803      0.8710   \n",
            "2       AdaBoost          0.8154        0.7761         0.7949      0.8007   \n",
            "3            KNN          0.9161        0.8806         0.8376      0.8226   \n",
            "4        XGBoost          1.0000        0.8507         0.9060      0.9010   \n",
            "5        Bagging          0.9950        0.8209         0.8803      0.8710   \n",
            "6            ANN          1.0000        0.8657         0.8974      0.8942   \n",
            "7           LSTM          0.8758        0.8657         0.8547      0.8389   \n",
            "8        Bi-LSTM          0.9211        0.8657         0.8889      0.8812   \n",
            "\n",
            "   kappa_score  recall  Precision  \n",
            "0       0.7056  0.8376     0.8635  \n",
            "1       0.7831  0.8803     0.8920  \n",
            "2       0.6626  0.7949     0.8196  \n",
            "3       0.7047  0.8376     0.8464  \n",
            "4       0.8319  0.9060     0.9127  \n",
            "5       0.7831  0.8803     0.8920  \n",
            "6       0.8191  0.8974     0.8977  \n",
            "7       0.7329  0.8547     0.8720  \n",
            "8       0.7995  0.8889     0.8988  \n"
          ]
        }
      ]
    },
    {
      "cell_type": "code",
      "source": [],
      "metadata": {
        "id": "bPbnSQMdW3Fs"
      },
      "execution_count": null,
      "outputs": []
    },
    {
      "cell_type": "code",
      "source": [],
      "metadata": {
        "id": "LTwOVL_MW3Hr"
      },
      "execution_count": null,
      "outputs": []
    },
    {
      "cell_type": "code",
      "source": [],
      "metadata": {
        "id": "h083f31cW3JY"
      },
      "execution_count": null,
      "outputs": []
    }
  ]
}